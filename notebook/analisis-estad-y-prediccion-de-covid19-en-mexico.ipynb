{
 "cells": [
  {
   "cell_type": "markdown",
   "metadata": {},
   "source": [
    "# Análisis Estadístico y Predicción de Casos de Covid-19 en México"
   ]
  },
  {
   "cell_type": "markdown",
   "metadata": {},
   "source": [
    "El objetivo de esta notebook es explorar los datos de casos de Covid-19 en México con el objetivo de realizar un análisis estadístico de sus variables, así como predecir si un paciente está contagiado o no con Covid en base a las variables independientes del sistema."
   ]
  },
  {
   "cell_type": "markdown",
   "metadata": {},
   "source": [
    "## 1. Exploración de los datos"
   ]
  },
  {
   "cell_type": "markdown",
   "metadata": {},
   "source": [
    "### 1.1. Análisis de la distribución de la variable dependiente"
   ]
  },
  {
   "cell_type": "markdown",
   "metadata": {},
   "source": [
    "El primer paso de la exploración de los datos es asegurarse de que existe un balance en la distribución de personas de acuerdo a la variable objetivo o variable dependiente."
   ]
  },
  {
   "cell_type": "code",
   "execution_count": 1,
   "metadata": {
    "_cell_guid": "b1076dfc-b9ad-4769-8c92-a6c4dae69d19",
    "_uuid": "8f2839f25d086af736a60e9eeb907d3b93b6e0e5",
    "tags": []
   },
   "outputs": [],
   "source": [
    "import base64\n",
    "from IPython.display import HTML\n",
    "from scipy import stats\n",
    "import warnings\n",
    "import numpy as np\n",
    "import pandas as pd\n",
    "import seaborn as sns\n",
    "import plotly.express as px\n",
    "import plotly.graph_objects as go\n",
    "import plotly.figure_factory as ff\n",
    "import matplotlib.pyplot as plt\n",
    "from fitter import Fitter, get_distributions\n",
    "warnings.filterwarnings('ignore')"
   ]
  },
  {
   "cell_type": "markdown",
   "metadata": {},
   "source": [
    "Descripción superficial del dataset."
   ]
  },
  {
   "cell_type": "markdown",
   "metadata": {},
   "source": [
    "## 2. Clasificación binaria utilizando CatBoost"
   ]
  },
  {
   "cell_type": "markdown",
   "metadata": {},
   "source": [
    "*Las siguientes celdas leen y le dan formato a los datasets utilizados en esta notebook en caso de que se quiera correr una sesión a partir de este capítulo.*"
   ]
  },
  {
   "cell_type": "code",
   "execution_count": 2,
   "metadata": {},
   "outputs": [],
   "source": [
    "df = pd.read_csv('mexico_covid19.csv')\n",
    "covid_data = pd.read_csv('covid_data.csv')"
   ]
  },
  {
   "cell_type": "code",
   "execution_count": 3,
   "metadata": {
    "tags": []
   },
   "outputs": [
    {
     "data": {
      "text/html": [
       "<div>\n",
       "<style scoped>\n",
       "    .dataframe tbody tr th:only-of-type {\n",
       "        vertical-align: middle;\n",
       "    }\n",
       "\n",
       "    .dataframe tbody tr th {\n",
       "        vertical-align: top;\n",
       "    }\n",
       "\n",
       "    .dataframe thead th {\n",
       "        text-align: right;\n",
       "    }\n",
       "</style>\n",
       "<table border=\"1\" class=\"dataframe\">\n",
       "  <thead>\n",
       "    <tr style=\"text-align: right;\">\n",
       "      <th></th>\n",
       "      <th>EDAD</th>\n",
       "      <th>SEXO</th>\n",
       "      <th>NEUMONIA</th>\n",
       "      <th>DIABETES</th>\n",
       "      <th>EPOC</th>\n",
       "      <th>ASMA</th>\n",
       "      <th>INMUSUPR</th>\n",
       "      <th>HIPERTENSION</th>\n",
       "      <th>OTRA_COM</th>\n",
       "      <th>CARDIOVASCULAR</th>\n",
       "      <th>OBESIDAD</th>\n",
       "      <th>RENAL_CRONICA</th>\n",
       "      <th>TABAQUISMO</th>\n",
       "      <th>OTRO_CASO</th>\n",
       "      <th>RESULTADO</th>\n",
       "    </tr>\n",
       "  </thead>\n",
       "  <tbody>\n",
       "    <tr>\n",
       "      <th>0</th>\n",
       "      <td>74</td>\n",
       "      <td>2</td>\n",
       "      <td>2</td>\n",
       "      <td>1</td>\n",
       "      <td>2</td>\n",
       "      <td>2</td>\n",
       "      <td>2</td>\n",
       "      <td>1</td>\n",
       "      <td>2</td>\n",
       "      <td>2</td>\n",
       "      <td>1</td>\n",
       "      <td>2</td>\n",
       "      <td>2</td>\n",
       "      <td>2</td>\n",
       "      <td>2</td>\n",
       "    </tr>\n",
       "    <tr>\n",
       "      <th>1</th>\n",
       "      <td>71</td>\n",
       "      <td>1</td>\n",
       "      <td>2</td>\n",
       "      <td>1</td>\n",
       "      <td>1</td>\n",
       "      <td>2</td>\n",
       "      <td>2</td>\n",
       "      <td>1</td>\n",
       "      <td>2</td>\n",
       "      <td>2</td>\n",
       "      <td>1</td>\n",
       "      <td>2</td>\n",
       "      <td>1</td>\n",
       "      <td>99</td>\n",
       "      <td>2</td>\n",
       "    </tr>\n",
       "    <tr>\n",
       "      <th>2</th>\n",
       "      <td>50</td>\n",
       "      <td>2</td>\n",
       "      <td>1</td>\n",
       "      <td>2</td>\n",
       "      <td>2</td>\n",
       "      <td>2</td>\n",
       "      <td>2</td>\n",
       "      <td>2</td>\n",
       "      <td>2</td>\n",
       "      <td>2</td>\n",
       "      <td>2</td>\n",
       "      <td>2</td>\n",
       "      <td>2</td>\n",
       "      <td>99</td>\n",
       "      <td>1</td>\n",
       "    </tr>\n",
       "    <tr>\n",
       "      <th>3</th>\n",
       "      <td>25</td>\n",
       "      <td>1</td>\n",
       "      <td>2</td>\n",
       "      <td>2</td>\n",
       "      <td>2</td>\n",
       "      <td>2</td>\n",
       "      <td>2</td>\n",
       "      <td>2</td>\n",
       "      <td>2</td>\n",
       "      <td>2</td>\n",
       "      <td>1</td>\n",
       "      <td>2</td>\n",
       "      <td>2</td>\n",
       "      <td>99</td>\n",
       "      <td>1</td>\n",
       "    </tr>\n",
       "    <tr>\n",
       "      <th>4</th>\n",
       "      <td>28</td>\n",
       "      <td>1</td>\n",
       "      <td>2</td>\n",
       "      <td>2</td>\n",
       "      <td>2</td>\n",
       "      <td>2</td>\n",
       "      <td>2</td>\n",
       "      <td>2</td>\n",
       "      <td>2</td>\n",
       "      <td>2</td>\n",
       "      <td>2</td>\n",
       "      <td>2</td>\n",
       "      <td>2</td>\n",
       "      <td>99</td>\n",
       "      <td>2</td>\n",
       "    </tr>\n",
       "  </tbody>\n",
       "</table>\n",
       "</div>"
      ],
      "text/plain": [
       "   EDAD  SEXO  NEUMONIA  DIABETES  EPOC  ASMA  INMUSUPR  HIPERTENSION  \\\n",
       "0    74     2         2         1     2     2         2             1   \n",
       "1    71     1         2         1     1     2         2             1   \n",
       "2    50     2         1         2     2     2         2             2   \n",
       "3    25     1         2         2     2     2         2             2   \n",
       "4    28     1         2         2     2     2         2             2   \n",
       "\n",
       "   OTRA_COM  CARDIOVASCULAR  OBESIDAD  RENAL_CRONICA  TABAQUISMO  OTRO_CASO  \\\n",
       "0         2               2         1              2           2          2   \n",
       "1         2               2         1              2           1         99   \n",
       "2         2               2         2              2           2         99   \n",
       "3         2               2         1              2           2         99   \n",
       "4         2               2         2              2           2         99   \n",
       "\n",
       "   RESULTADO  \n",
       "0          2  \n",
       "1          2  \n",
       "2          1  \n",
       "3          1  \n",
       "4          2  "
      ]
     },
     "execution_count": 3,
     "metadata": {},
     "output_type": "execute_result"
    }
   ],
   "source": [
    "df = df.loc[:, covid_data.columns]\n",
    "df = df[[columna for columna in df if columna not in ['RESULTADO']] + ['RESULTADO']]\n",
    "df.head()"
   ]
  },
  {
   "cell_type": "code",
   "execution_count": 4,
   "metadata": {
    "tags": []
   },
   "outputs": [
    {
     "data": {
      "text/html": [
       "<div>\n",
       "<style scoped>\n",
       "    .dataframe tbody tr th:only-of-type {\n",
       "        vertical-align: middle;\n",
       "    }\n",
       "\n",
       "    .dataframe tbody tr th {\n",
       "        vertical-align: top;\n",
       "    }\n",
       "\n",
       "    .dataframe thead th {\n",
       "        text-align: right;\n",
       "    }\n",
       "</style>\n",
       "<table border=\"1\" class=\"dataframe\">\n",
       "  <thead>\n",
       "    <tr style=\"text-align: right;\">\n",
       "      <th></th>\n",
       "      <th>EDAD</th>\n",
       "      <th>SEXO</th>\n",
       "      <th>NEUMONIA</th>\n",
       "      <th>DIABETES</th>\n",
       "      <th>EPOC</th>\n",
       "      <th>ASMA</th>\n",
       "      <th>INMUSUPR</th>\n",
       "      <th>HIPERTENSION</th>\n",
       "      <th>OTRA_COM</th>\n",
       "      <th>CARDIOVASCULAR</th>\n",
       "      <th>OBESIDAD</th>\n",
       "      <th>RENAL_CRONICA</th>\n",
       "      <th>TABAQUISMO</th>\n",
       "      <th>OTRO_CASO</th>\n",
       "      <th>RESULTADO</th>\n",
       "    </tr>\n",
       "  </thead>\n",
       "  <tbody>\n",
       "    <tr>\n",
       "      <th>0</th>\n",
       "      <td>74</td>\n",
       "      <td>2</td>\n",
       "      <td>2</td>\n",
       "      <td>1</td>\n",
       "      <td>2</td>\n",
       "      <td>2</td>\n",
       "      <td>2</td>\n",
       "      <td>1</td>\n",
       "      <td>2</td>\n",
       "      <td>2</td>\n",
       "      <td>1</td>\n",
       "      <td>2</td>\n",
       "      <td>2</td>\n",
       "      <td>2</td>\n",
       "      <td>2</td>\n",
       "    </tr>\n",
       "    <tr>\n",
       "      <th>1</th>\n",
       "      <td>71</td>\n",
       "      <td>1</td>\n",
       "      <td>2</td>\n",
       "      <td>1</td>\n",
       "      <td>1</td>\n",
       "      <td>2</td>\n",
       "      <td>2</td>\n",
       "      <td>1</td>\n",
       "      <td>2</td>\n",
       "      <td>2</td>\n",
       "      <td>1</td>\n",
       "      <td>2</td>\n",
       "      <td>1</td>\n",
       "      <td>2</td>\n",
       "      <td>2</td>\n",
       "    </tr>\n",
       "    <tr>\n",
       "      <th>2</th>\n",
       "      <td>50</td>\n",
       "      <td>2</td>\n",
       "      <td>1</td>\n",
       "      <td>2</td>\n",
       "      <td>2</td>\n",
       "      <td>2</td>\n",
       "      <td>2</td>\n",
       "      <td>2</td>\n",
       "      <td>2</td>\n",
       "      <td>2</td>\n",
       "      <td>2</td>\n",
       "      <td>2</td>\n",
       "      <td>2</td>\n",
       "      <td>1</td>\n",
       "      <td>1</td>\n",
       "    </tr>\n",
       "    <tr>\n",
       "      <th>3</th>\n",
       "      <td>25</td>\n",
       "      <td>1</td>\n",
       "      <td>2</td>\n",
       "      <td>2</td>\n",
       "      <td>2</td>\n",
       "      <td>2</td>\n",
       "      <td>2</td>\n",
       "      <td>2</td>\n",
       "      <td>2</td>\n",
       "      <td>2</td>\n",
       "      <td>1</td>\n",
       "      <td>2</td>\n",
       "      <td>2</td>\n",
       "      <td>1</td>\n",
       "      <td>1</td>\n",
       "    </tr>\n",
       "    <tr>\n",
       "      <th>4</th>\n",
       "      <td>28</td>\n",
       "      <td>1</td>\n",
       "      <td>2</td>\n",
       "      <td>2</td>\n",
       "      <td>2</td>\n",
       "      <td>2</td>\n",
       "      <td>2</td>\n",
       "      <td>2</td>\n",
       "      <td>2</td>\n",
       "      <td>2</td>\n",
       "      <td>2</td>\n",
       "      <td>2</td>\n",
       "      <td>2</td>\n",
       "      <td>1</td>\n",
       "      <td>2</td>\n",
       "    </tr>\n",
       "  </tbody>\n",
       "</table>\n",
       "</div>"
      ],
      "text/plain": [
       "   EDAD  SEXO  NEUMONIA  DIABETES  EPOC  ASMA  INMUSUPR  HIPERTENSION  \\\n",
       "0    74     2         2         1     2     2         2             1   \n",
       "1    71     1         2         1     1     2         2             1   \n",
       "2    50     2         1         2     2     2         2             2   \n",
       "3    25     1         2         2     2     2         2             2   \n",
       "4    28     1         2         2     2     2         2             2   \n",
       "\n",
       "   OTRA_COM  CARDIOVASCULAR  OBESIDAD  RENAL_CRONICA  TABAQUISMO  OTRO_CASO  \\\n",
       "0         2               2         1              2           2          2   \n",
       "1         2               2         1              2           1          2   \n",
       "2         2               2         2              2           2          1   \n",
       "3         2               2         1              2           2          1   \n",
       "4         2               2         2              2           2          1   \n",
       "\n",
       "   RESULTADO  \n",
       "0          2  \n",
       "1          2  \n",
       "2          1  \n",
       "3          1  \n",
       "4          2  "
      ]
     },
     "execution_count": 4,
     "metadata": {},
     "output_type": "execute_result"
    }
   ],
   "source": [
    "covid_data.head()"
   ]
  },
  {
   "cell_type": "markdown",
   "metadata": {},
   "source": [
    "### 2.1. División de los datos"
   ]
  },
  {
   "cell_type": "markdown",
   "metadata": {},
   "source": [
    "Para comprobar que el balance del dataframe tuvo un impacto positivo en la ejecución del algoritmo se entrenará el algoritmo en los datos filtrados, así como en el dataset con datos simulados para comparar la precisión en ambos casos."
   ]
  },
  {
   "cell_type": "code",
   "execution_count": 5,
   "metadata": {
    "tags": []
   },
   "outputs": [
    {
     "name": "stdout",
     "output_type": "stream",
     "text": [
      "Tamaños de los sets:\n",
      "Entrenamiento: 210405\tValidación: 26301\tPrueba: 26301\n"
     ]
    }
   ],
   "source": [
    "from sklearn.model_selection import train_test_split\n",
    "\n",
    "X = df.drop('RESULTADO', axis=1)\n",
    "y = df.RESULTADO\n",
    "\n",
    "X_train, X_test, y_train, y_test = train_test_split(X, y, test_size=0.2, random_state=1010)\n",
    "X_val, X_test, y_val, y_test = train_test_split(X_test, y_test, test_size=0.5, random_state=1010)\n",
    "\n",
    "print(f'Tamaños de los sets:\\nEntrenamiento: {len(X_train)}\\tValidación: {len(X_val)}\\tPrueba: {len(X_test)}')"
   ]
  },
  {
   "cell_type": "code",
   "execution_count": 6,
   "metadata": {
    "tags": []
   },
   "outputs": [
    {
     "name": "stdout",
     "output_type": "stream",
     "text": [
      "Tamaños de los sets:\n",
      "Entrenamiento: 254180\tValidación: 31773\tPrueba: 31773\n"
     ]
    }
   ],
   "source": [
    "covX = covid_data.drop('RESULTADO', axis=1)\n",
    "covy = covid_data.RESULTADO\n",
    "\n",
    "covX_train, covX_test, covy_train, covy_test = train_test_split(covX, covy, test_size=0.2, random_state=1010)\n",
    "covX_val, covX_test, covy_val, covy_test = train_test_split(covX_test, covy_test, test_size=0.5, random_state=1010)\n",
    "\n",
    "print(f'Tamaños de los sets:\\nEntrenamiento: {len(covX_train)}\\tValidación: {len(covX_val)}\\tPrueba: {len(covX_test)}')"
   ]
  },
  {
   "cell_type": "markdown",
   "metadata": {},
   "source": [
    "Debido a la enorme cantidad de atributos categóricos dentro del dataset, se optó por utilizar [CatBoost](https://catboost.ai/) para realizar la clasificación de pacientes que estén o no contagiados de Covid. `CatBoost` es un algoritmo de boosting que requiere poco o nulo preprocesamiento de las variables categóricas del dataset sobre el cual va a operar, por lo que es perfecto para los fines de este proyecto."
   ]
  },
  {
   "cell_type": "markdown",
   "metadata": {},
   "source": [
    "### 2.2.  Generación del modelo con los datos del dataframe original"
   ]
  },
  {
   "cell_type": "code",
   "execution_count": 7,
   "metadata": {
    "tags": []
   },
   "outputs": [
    {
     "data": {
      "application/vnd.jupyter.widget-view+json": {
       "model_id": "db621f8881e54afeb3d278caf88c2f38",
       "version_major": 2,
       "version_minor": 0
      },
      "text/plain": [
       "MetricVisualizer(layout=Layout(align_self='stretch', height='500px'))"
      ]
     },
     "metadata": {},
     "output_type": "display_data"
    },
    {
     "name": "stdout",
     "output_type": "stream",
     "text": [
      "0:\tlearn: 0.6811844\ttest: 0.6809539\tbest: 0.6809539 (0)\ttotal: 62.8ms\tremaining: 1m 2s\n",
      "100:\tlearn: 0.6212228\ttest: 0.6224532\tbest: 0.6224532 (100)\ttotal: 4.84s\tremaining: 43.1s\n",
      "200:\tlearn: 0.6199328\ttest: 0.6221948\tbest: 0.6221948 (200)\ttotal: 9.74s\tremaining: 38.7s\n",
      "300:\tlearn: 0.6188054\ttest: 0.6221999\tbest: 0.6221563 (238)\ttotal: 14.7s\tremaining: 34.1s\n",
      "400:\tlearn: 0.6178357\ttest: 0.6222992\tbest: 0.6221563 (238)\ttotal: 19.8s\tremaining: 29.5s\n",
      "500:\tlearn: 0.6170644\ttest: 0.6223633\tbest: 0.6221563 (238)\ttotal: 24.8s\tremaining: 24.7s\n",
      "600:\tlearn: 0.6162912\ttest: 0.6224877\tbest: 0.6221563 (238)\ttotal: 29.9s\tremaining: 19.9s\n",
      "700:\tlearn: 0.6155327\ttest: 0.6226029\tbest: 0.6221563 (238)\ttotal: 35s\tremaining: 14.9s\n",
      "800:\tlearn: 0.6148933\ttest: 0.6228176\tbest: 0.6221563 (238)\ttotal: 40s\tremaining: 9.94s\n",
      "900:\tlearn: 0.6142675\ttest: 0.6229065\tbest: 0.6221563 (238)\ttotal: 45.1s\tremaining: 4.95s\n",
      "999:\tlearn: 0.6136312\ttest: 0.6230130\tbest: 0.6221563 (238)\ttotal: 50.2s\tremaining: 0us\n",
      "bestTest = 0.6221563433\n",
      "bestIteration = 238\n",
      "Shrink model to first 239 iterations.\n"
     ]
    },
    {
     "data": {
      "text/plain": [
       "<catboost.core.CatBoostClassifier at 0x7f0277b8dfa0>"
      ]
     },
     "execution_count": 7,
     "metadata": {},
     "output_type": "execute_result"
    }
   ],
   "source": [
    "from catboost import CatBoostClassifier, Pool\n",
    "\n",
    "cat_features = [x for x in range(1, len(covid_data.columns) - 1)]\n",
    "\n",
    "train_data = Pool(data=X_train,\n",
    "                  label=y_train,\n",
    "                  cat_features=cat_features)\n",
    "\n",
    "eval_data = Pool(data=X_val,\n",
    "                 label=y_val,\n",
    "                 cat_features=cat_features)\n",
    "\n",
    "model = CatBoostClassifier(iterations=1000, task_type='GPU', learning_rate=0.1, random_seed=1010)\n",
    "model.fit(train_data, eval_set=eval_data, verbose=100, plot=True)"
   ]
  },
  {
   "cell_type": "code",
   "execution_count": 8,
   "metadata": {
    "tags": []
   },
   "outputs": [],
   "source": [
    "from sklearn.metrics import accuracy_score, confusion_matrix\n",
    "\n",
    "# Función que imprime la precisión y la matríz de confusión del modelo\n",
    "def print_results(model, train_data, val_data, test_data):\n",
    "    y_hat = model.predict(test_data[0])\n",
    "\n",
    "    precision = [accuracy_score(y_pred=model.predict(train_data[0]), y_true=train_data[1]) * 100,\n",
    "                 accuracy_score(y_pred=model.predict(val_data[0]), y_true=val_data[1]) * 100,\n",
    "                 accuracy_score(y_pred=y_hat, y_true=test_data[1]) * 100]\n",
    "\n",
    "    print(f'Precisión del modelo sobre los sets de...\\nEntrenamiento: {precision[0]:.2f}%\\nValidación: {precision[1]:.2f}%\\nPrueba: {precision[2]:.2f}%')\n",
    "    \n",
    "    cm = confusion_matrix(y_hat, test_data[1])\n",
    "\n",
    "    group_names = ['True Neg','False Pos','False Neg','True Pos']\n",
    "    group_percentages = [f'{value:.2%}' for value in cm.flatten()/np.sum(cm)]\n",
    "    labels = [f'{name}\\n{percent}' for name, percent in zip(group_names, group_percentages)]\n",
    "    labels = np.asarray(labels).reshape(2,2)\n",
    "\n",
    "    ax = sns.heatmap(cm, annot=labels, fmt='', cmap='Blues')\n",
    "    ax.set_title('\\nMatríz de Confusión')\n",
    "    ax.set_xlabel('\\nValores Predecidos')\n",
    "    ax.set_ylabel('Valores Reales')\n",
    "    ax.xaxis.set_ticklabels(['False','True'])\n",
    "    ax.yaxis.set_ticklabels(['False','True'])\n",
    "\n",
    "    plt.show()"
   ]
  },
  {
   "cell_type": "code",
   "execution_count": 9,
   "metadata": {
    "tags": []
   },
   "outputs": [
    {
     "name": "stdout",
     "output_type": "stream",
     "text": [
      "Precisión del modelo sobre los sets de...\n",
      "Entrenamiento: 66.58%\n",
      "Validación: 66.35%\n",
      "Prueba: 66.22%\n"
     ]
    },
    {
     "data": {
      "image/png": "[encoded data removed]",
      "text/plain": [
       "<Figure size 432x288 with 2 Axes>"
      ]
     },
     "metadata": {
      "needs_background": "light"
     },
     "output_type": "display_data"
    }
   ],
   "source": [
    "print_results(model, (X_train, y_train), (X_val, y_val), (X_test, y_test))"
   ]
  },
  {
   "cell_type": "markdown",
   "metadata": {},
   "source": [
    "Se observa que el modelo generaliza adecuadamente sobre los sets de validación y prueba, y que cuenta con un porcentaje de precisión favorable."
   ]
  },
  {
   "cell_type": "markdown",
   "metadata": {},
   "source": [
    "### 2.3. Generación del modelo con los datos de \"covid_data\""
   ]
  },
  {
   "cell_type": "code",
   "execution_count": 10,
   "metadata": {
    "tags": []
   },
   "outputs": [
    {
     "data": {
      "application/vnd.jupyter.widget-view+json": {
       "model_id": "dce477297dd342e0b2fd82cc887d1a31",
       "version_major": 2,
       "version_minor": 0
      },
      "text/plain": [
       "MetricVisualizer(layout=Layout(align_self='stretch', height='500px'))"
      ]
     },
     "metadata": {},
     "output_type": "display_data"
    },
    {
     "name": "stdout",
     "output_type": "stream",
     "text": [
      "0:\tlearn: 0.6521485\ttest: 0.6523587\tbest: 0.6523587 (0)\ttotal: 9.24ms\tremaining: 9.23s\n",
      "100:\tlearn: 0.5201478\ttest: 0.5240022\tbest: 0.5240022 (100)\ttotal: 765ms\tremaining: 6.8s\n",
      "200:\tlearn: 0.5180598\ttest: 0.5229715\tbest: 0.5229692 (199)\ttotal: 1.53s\tremaining: 6.07s\n",
      "300:\tlearn: 0.5168172\ttest: 0.5228423\tbest: 0.5227873 (270)\ttotal: 2.27s\tremaining: 5.26s\n",
      "400:\tlearn: 0.5158066\ttest: 0.5227309\tbest: 0.5226566 (362)\ttotal: 2.98s\tremaining: 4.46s\n",
      "500:\tlearn: 0.5150187\ttest: 0.5227539\tbest: 0.5226566 (362)\ttotal: 3.74s\tremaining: 3.73s\n",
      "600:\tlearn: 0.5142937\ttest: 0.5227489\tbest: 0.5226566 (362)\ttotal: 4.51s\tremaining: 3s\n",
      "700:\tlearn: 0.5137036\ttest: 0.5228730\tbest: 0.5226566 (362)\ttotal: 5.23s\tremaining: 2.23s\n",
      "800:\tlearn: 0.5131509\ttest: 0.5229701\tbest: 0.5226566 (362)\ttotal: 5.94s\tremaining: 1.48s\n",
      "900:\tlearn: 0.5125682\ttest: 0.5230414\tbest: 0.5226566 (362)\ttotal: 6.64s\tremaining: 730ms\n",
      "999:\tlearn: 0.5120438\ttest: 0.5230779\tbest: 0.5226566 (362)\ttotal: 7.37s\tremaining: 0us\n",
      "bestTest = 0.5226565697\n",
      "bestIteration = 362\n",
      "Shrink model to first 363 iterations.\n"
     ]
    },
    {
     "data": {
      "text/plain": [
       "<catboost.core.CatBoostClassifier at 0x7f02784ac760>"
      ]
     },
     "execution_count": 10,
     "metadata": {},
     "output_type": "execute_result"
    }
   ],
   "source": [
    "cov_train_data = Pool(data=covX_train,\n",
    "                  label=covy_train,\n",
    "                  cat_features=cat_features)\n",
    "\n",
    "cov_eval_data = Pool(data=covX_val,\n",
    "                 label=covy_val,\n",
    "                 cat_features=cat_features)\n",
    "\n",
    "cov_model = CatBoostClassifier(iterations=1000, task_type='GPU', learning_rate=0.1, random_seed=1010)\n",
    "cov_model.fit(cov_train_data, eval_set=cov_eval_data, verbose=100, plot=True)"
   ]
  },
  {
   "cell_type": "code",
   "execution_count": 11,
   "metadata": {
    "tags": []
   },
   "outputs": [
    {
     "name": "stdout",
     "output_type": "stream",
     "text": [
      "Precisión del modelo sobre los sets de...\n",
      "Entrenamiento: 72.06%\n",
      "Validación: 71.48%\n",
      "Prueba: 71.67%\n"
     ]
    },
    {
     "data": {
      "image/png": "[encoded data removed]",
      "text/plain": [
       "<Figure size 432x288 with 2 Axes>"
      ]
     },
     "metadata": {
      "needs_background": "light"
     },
     "output_type": "display_data"
    }
   ],
   "source": [
    "print_results(cov_model, (covX_train, covy_train), (covX_val, covy_val), (covX_test, covy_test))"
   ]
  },
  {
   "cell_type": "markdown",
   "metadata": {},
   "source": [
    "Se puede observar como bajo las mismas condiciones de entrenamiento que el modelo utilizado sobre el dataset original, la precisión del modelo sobre los datos enriquecidos con simulación es 20% más alta, y cuenta con menos casos de Falsos Negativos y Falsos Positivos que el modelo anterior."
   ]
  },
  {
   "cell_type": "markdown",
   "metadata": {
    "tags": []
   },
   "source": [
    "## 3. Ajuste de hiperparámetros utilizando Grid Search"
   ]
  },
  {
   "cell_type": "markdown",
   "metadata": {},
   "source": [
    "Los resultados de los modelos anteriores son buenos, pero existe la posibilidad de mejorar la precisión sobre ambos grupos de datos a través de un ajuste de hiperparámetros, el cual se realizará utilizando el método de `grid_search` del anterior usado **CatBoostClassifier**."
   ]
  },
  {
   "cell_type": "markdown",
   "metadata": {},
   "source": [
    "### 3.1. Definición de los hiperparámetros"
   ]
  },
  {
   "cell_type": "markdown",
   "metadata": {},
   "source": [
    "A continuación se definen los hiperparámetros estáticos y los hiperparámetros que se utilizarán en el Grid Search."
   ]
  },
  {
   "cell_type": "code",
   "execution_count": 20,
   "metadata": {
    "tags": []
   },
   "outputs": [],
   "source": [
    "static_params = {\n",
    "    'task_type'     : 'GPU',\n",
    "    'random_seed'   : 1010,\n",
    "    'loss_function' : 'Logloss',\n",
    "    'verbose'       : False,\n",
    "    'od_type'       : 'Iter',\n",
    "    'od_wait'       : 200,\n",
    "    'eval_metric'   :'Accuracy'\n",
    "}\n",
    "\n",
    "grid_params = {\n",
    "    'depth'            : [4, 5, 6, 7, 8, 9, 10],\n",
    "    'learning_rate'    : [0.001, 0.01, 0.03, 0.1, 0.2],\n",
    "    'iterations'       : [100, 250, 500, 1000, 2000]\n",
    "}\n",
    "\n",
    "grid_model = CatBoostClassifier(**static_params)\n",
    "cov_grid_model = CatBoostClassifier(**static_params)"
   ]
  },
  {
   "cell_type": "markdown",
   "metadata": {},
   "source": [
    "### 3.1. Aplicación del modelo con grid search sobre dataframe original"
   ]
  },
  {
   "cell_type": "markdown",
   "metadata": {},
   "source": [
    "A continuación se crea alimentan los datos al modelo con Grid Search a través del método de **Pool**, así como el diccionario de hiperparámetros definidos en la celda anterior. Una vez terminado el Grid Search, la variable `grid_result` contendrá los mejores valores con los que se entrenó `grid_model`."
   ]
  },
  {
   "cell_type": "code",
   "execution_count": 13,
   "metadata": {
    "tags": []
   },
   "outputs": [
    {
     "data": {
      "application/vnd.jupyter.widget-view+json": {
       "model_id": "daae4c13b5f54031ade1c734afa34fba",
       "version_major": 2,
       "version_minor": 0
      },
      "text/plain": [
       "MetricVisualizer(layout=Layout(align_self='stretch', height='500px'))"
      ]
     },
     "metadata": {},
     "output_type": "display_data"
    },
    {
     "name": "stdout",
     "output_type": "stream",
     "text": [
      "bestTest = 0.6203987548\n",
      "bestIteration = 0\n",
      "0:\tloss: 0.6203988\tbest: 0.6203988 (0)\ttotal: 2.66s\tremaining: 7m 42s\n",
      "bestTest = 0.6405028398\n",
      "bestIteration = 99\n",
      "1:\tloss: 0.6405028\tbest: 0.6405028 (1)\ttotal: 5.34s\tremaining: 7m 41s\n",
      "bestTest = 0.6538817994\n",
      "bestIteration = 98\n",
      "2:\tloss: 0.6538818\tbest: 0.6538818 (2)\ttotal: 7.99s\tremaining: 7m 37s\n",
      "bestTest = 0.6604881063\n",
      "bestIteration = 99\n",
      "3:\tloss: 0.6604881\tbest: 0.6604881 (3)\ttotal: 10.6s\tremaining: 7m 34s\n",
      "bestTest = 0.6607970343\n",
      "bestIteration = 97\n",
      "4:\tloss: 0.6607970\tbest: 0.6607970 (4)\ttotal: 13.2s\tremaining: 7m 29s\n",
      "bestTest = 0.6468239823\n",
      "bestIteration = 1\n",
      "5:\tloss: 0.6468240\tbest: 0.6607970 (4)\ttotal: 22.6s\tremaining: 10m 35s\n",
      "bestTest = 0.6548798745\n",
      "bestIteration = 249\n",
      "6:\tloss: 0.6548799\tbest: 0.6607970 (4)\ttotal: 33.9s\tremaining: 13m 33s\n",
      "bestTest = 0.6603455241\n",
      "bestIteration = 249\n",
      "7:\tloss: 0.6603455\tbest: 0.6607970 (4)\ttotal: 45.2s\tremaining: 15m 43s\n",
      "bestTest = 0.6617000547\n",
      "bestIteration = 115\n",
      "8:\tloss: 0.6617001\tbest: 0.6617001 (8)\ttotal: 55.9s\tremaining: 17m 10s\n",
      "bestTest = 0.6626268387\n",
      "bestIteration = 243\n",
      "9:\tloss: 0.6626268\tbest: 0.6626268 (9)\ttotal: 1m 6s\tremaining: 18m 16s\n",
      "bestTest = 0.6468239823\n",
      "bestIteration = 1\n",
      "10:\tloss: 0.6468240\tbest: 0.6626268 (9)\ttotal: 1m 15s\tremaining: 18m 51s\n",
      "bestTest = 0.6578741\n",
      "bestIteration = 493\n",
      "11:\tloss: 0.6578741\tbest: 0.6626268 (9)\ttotal: 1m 38s\tremaining: 22m 11s\n",
      "bestTest = 0.6623416744\n",
      "bestIteration = 461\n",
      "12:\tloss: 0.6623417\tbest: 0.6626268 (9)\ttotal: 1m 59s\tremaining: 24m 48s\n",
      "bestTest = 0.6617238184\n",
      "bestIteration = 108\n",
      "13:\tloss: 0.6617238\tbest: 0.6626268 (9)\ttotal: 2m 12s\tremaining: 25m 24s\n",
      "bestTest = 0.6627931846\n",
      "bestIteration = 413\n",
      "14:\tloss: 0.6627932\tbest: 0.6627932 (14)\ttotal: 2m 33s\tremaining: 27m 12s\n",
      "bestTest = 0.6468239823\n",
      "bestIteration = 1\n",
      "15:\tloss: 0.6468240\tbest: 0.6627932 (14)\ttotal: 2m 42s\tremaining: 26m 54s\n",
      "bestTest = 0.6613435992\n",
      "bestIteration = 897\n",
      "16:\tloss: 0.6613436\tbest: 0.6627932 (14)\ttotal: 3m 25s\tremaining: 31m 48s\n",
      "bestTest = 0.6624604929\n",
      "bestIteration = 669\n",
      "17:\tloss: 0.6624605\tbest: 0.6627932 (14)\ttotal: 4m 1s\tremaining: 35m 5s\n",
      "bestTest = 0.6621753285\n",
      "bestIteration = 638\n",
      "18:\tloss: 0.6621753\tbest: 0.6627932 (14)\ttotal: 4m 35s\tremaining: 37m 38s\n",
      "bestTest = 0.6625555476\n",
      "bestIteration = 360\n",
      "19:\tloss: 0.6625555\tbest: 0.6627932 (14)\ttotal: 4m 57s\tremaining: 38m 29s\n",
      "bestTest = 0.6468239823\n",
      "bestIteration = 1\n",
      "20:\tloss: 0.6468240\tbest: 0.6627932 (14)\ttotal: 5m 7s\tremaining: 37m 34s\n",
      "bestTest = 0.6621515648\n",
      "bestIteration = 1602\n",
      "21:\tloss: 0.6621516\tbest: 0.6627932 (14)\ttotal: 6m 22s\tremaining: 44m 18s\n",
      "bestTest = 0.6625080202\n",
      "bestIteration = 814\n",
      "22:\tloss: 0.6625080\tbest: 0.6627932 (14)\ttotal: 7m 4s\tremaining: 46m 43s\n",
      "bestTest = 0.6617000547\n",
      "bestIteration = 115\n",
      "23:\tloss: 0.6617001\tbest: 0.6627932 (14)\ttotal: 7m 17s\tremaining: 45m 52s\n",
      "bestTest = 0.6628169483\n",
      "bestIteration = 342\n",
      "24:\tloss: 0.6628169\tbest: 0.6628169 (24)\ttotal: 7m 39s\tremaining: 45m 58s\n",
      "bestTest = 0.6203987548\n",
      "bestIteration = 0\n",
      "25:\tloss: 0.6203988\tbest: 0.6628169 (24)\ttotal: 7m 42s\tremaining: 44m 12s\n",
      "bestTest = 0.6424514627\n",
      "bestIteration = 99\n",
      "26:\tloss: 0.6424515\tbest: 0.6628169 (24)\ttotal: 7m 45s\tremaining: 42m 34s\n",
      "bestTest = 0.6545234191\n",
      "bestIteration = 98\n",
      "27:\tloss: 0.6545234\tbest: 0.6628169 (24)\ttotal: 7m 49s\tremaining: 41m 3s\n",
      "bestTest = 0.6602979967\n",
      "bestIteration = 98\n",
      "28:\tloss: 0.6602980\tbest: 0.6628169 (24)\ttotal: 7m 52s\tremaining: 39m 38s\n",
      "bestTest = 0.6617951094\n",
      "bestIteration = 72\n",
      "29:\tloss: 0.6617951\tbest: 0.6628169 (24)\ttotal: 7m 55s\tremaining: 38m 18s\n",
      "bestTest = 0.6470616193\n",
      "bestIteration = 1\n",
      "30:\tloss: 0.6470616\tbest: 0.6628169 (24)\ttotal: 8m 8s\tremaining: 37m 47s\n",
      "bestTest = 0.6559492407\n",
      "bestIteration = 249\n",
      "31:\tloss: 0.6559492\tbest: 0.6628169 (24)\ttotal: 8m 23s\tremaining: 37m 29s\n",
      "bestTest = 0.6615337088\n",
      "bestIteration = 244\n",
      "32:\tloss: 0.6615337\tbest: 0.6628169 (24)\ttotal: 8m 38s\tremaining: 37m 10s\n",
      "bestTest = 0.6625080202\n",
      "bestIteration = 237\n",
      "33:\tloss: 0.6625080\tbest: 0.6628169 (24)\ttotal: 8m 52s\tremaining: 36m 47s\n",
      "bestTest = 0.6630545852\n",
      "bestIteration = 186\n",
      "34:\tloss: 0.6630546\tbest: 0.6630546 (34)\ttotal: 9m 5s\tremaining: 36m 21s\n",
      "bestTest = 0.6470616193\n",
      "bestIteration = 1\n",
      "35:\tloss: 0.6470616\tbest: 0.6630546 (34)\ttotal: 9m 17s\tremaining: 35m 53s\n",
      "bestTest = 0.6602029419\n",
      "bestIteration = 497\n",
      "36:\tloss: 0.6602029\tbest: 0.6630546 (34)\ttotal: 9m 47s\tremaining: 36m 31s\n",
      "bestTest = 0.6625555476\n",
      "bestIteration = 458\n",
      "37:\tloss: 0.6625555\tbest: 0.6630546 (34)\ttotal: 10m 15s\tremaining: 36m 59s\n",
      "bestTest = 0.662603075\n",
      "bestIteration = 401\n",
      "38:\tloss: 0.6626031\tbest: 0.6630546 (34)\ttotal: 10m 40s\tremaining: 37m 15s\n",
      "bestTest = 0.6632684584\n",
      "bestIteration = 118\n",
      "39:\tloss: 0.6632685\tbest: 0.6632685 (39)\ttotal: 10m 57s\tremaining: 37m\n",
      "bestTest = 0.6470616193\n",
      "bestIteration = 1\n",
      "40:\tloss: 0.6470616\tbest: 0.6632685 (39)\ttotal: 11m 10s\tremaining: 36m 30s\n",
      "bestTest = 0.6622228559\n",
      "bestIteration = 924\n",
      "41:\tloss: 0.6622229\tbest: 0.6632685 (39)\ttotal: 12m 6s\tremaining: 38m 19s\n",
      "bestTest = 0.6624842566\n",
      "bestIteration = 388\n",
      "42:\tloss: 0.6624843\tbest: 0.6632685 (39)\ttotal: 12m 39s\tremaining: 38m 50s\n",
      "bestTest = 0.6623179107\n",
      "bestIteration = 155\n",
      "43:\tloss: 0.6623179\tbest: 0.6632685 (39)\ttotal: 12m 58s\tremaining: 38m 36s\n",
      "bestTest = 0.6631021126\n",
      "bestIteration = 120\n",
      "44:\tloss: 0.6631021\tbest: 0.6632685 (39)\ttotal: 13m 14s\tremaining: 38m 16s\n",
      "bestTest = 0.6470616193\n",
      "bestIteration = 1\n",
      "45:\tloss: 0.6470616\tbest: 0.6632685 (39)\ttotal: 13m 27s\tremaining: 37m 44s\n",
      "bestTest = 0.6625080202\n",
      "bestIteration = 1133\n",
      "46:\tloss: 0.6625080\tbest: 0.6632685 (39)\ttotal: 14m 40s\tremaining: 39m 58s\n",
      "bestTest = 0.6629595304\n",
      "bestIteration = 876\n",
      "47:\tloss: 0.6629595\tbest: 0.6632685 (39)\ttotal: 15m 37s\tremaining: 41m 19s\n",
      "bestTest = 0.6633635132\n",
      "bestIteration = 1078\n",
      "48:\tloss: 0.6633635\tbest: 0.6633635 (48)\ttotal: 16m 41s\tremaining: 42m 56s\n",
      "bestTest = 0.6634110406\n",
      "bestIteration = 164\n",
      "49:\tloss: 0.6634110\tbest: 0.6634110 (49)\ttotal: 17m\tremaining: 42m 32s\n",
      "bestTest = 0.6203987548\n",
      "bestIteration = 0\n",
      "50:\tloss: 0.6203988\tbest: 0.6634110 (49)\ttotal: 17m 4s\tremaining: 41m 31s\n",
      "bestTest = 0.6406691856\n",
      "bestIteration = 99\n",
      "51:\tloss: 0.6406692\tbest: 0.6634110 (49)\ttotal: 17m 8s\tremaining: 40m 33s\n",
      "bestTest = 0.6542620185\n",
      "bestIteration = 99\n",
      "52:\tloss: 0.6542620\tbest: 0.6634110 (49)\ttotal: 17m 12s\tremaining: 39m 36s\n",
      "bestTest = 0.6612960719\n",
      "bestIteration = 93\n",
      "53:\tloss: 0.6612961\tbest: 0.6634110 (49)\ttotal: 17m 16s\tremaining: 38m 42s\n",
      "bestTest = 0.6615337088\n",
      "bestIteration = 99\n",
      "54:\tloss: 0.6615337\tbest: 0.6634110 (49)\ttotal: 17m 20s\tremaining: 37m 50s\n",
      "bestTest = 0.6534302892\n",
      "bestIteration = 3\n",
      "55:\tloss: 0.6534303\tbest: 0.6634110 (49)\ttotal: 17m 37s\tremaining: 37m 26s\n",
      "bestTest = 0.6567334426\n",
      "bestIteration = 248\n",
      "56:\tloss: 0.6567334\tbest: 0.6634110 (49)\ttotal: 17m 58s\tremaining: 37m 11s\n",
      "bestTest = 0.6622228559\n",
      "bestIteration = 248\n",
      "57:\tloss: 0.6622229\tbest: 0.6634110 (49)\ttotal: 18m 17s\tremaining: 36m 54s\n",
      "bestTest = 0.6627218935\n",
      "bestIteration = 135\n",
      "58:\tloss: 0.6627219\tbest: 0.6634110 (49)\ttotal: 18m 36s\tremaining: 36m 34s\n",
      "bestTest = 0.6632922221\n",
      "bestIteration = 94\n",
      "59:\tloss: 0.6632922\tbest: 0.6634110 (49)\ttotal: 18m 54s\tremaining: 36m 14s\n",
      "bestTest = 0.6534302892\n",
      "bestIteration = 3\n",
      "60:\tloss: 0.6534303\tbest: 0.6634110 (49)\ttotal: 19m 10s\tremaining: 35m 50s\n",
      "bestTest = 0.6619614553\n",
      "bestIteration = 497\n",
      "61:\tloss: 0.6619615\tbest: 0.6634110 (49)\ttotal: 19m 50s\tremaining: 36m 10s\n",
      "bestTest = 0.6626981298\n",
      "bestIteration = 476\n",
      "62:\tloss: 0.6626981\tbest: 0.6634110 (49)\ttotal: 20m 27s\tremaining: 36m 23s\n",
      "bestTest = 0.6626743661\n",
      "bestIteration = 172\n",
      "63:\tloss: 0.6626744\tbest: 0.6634110 (49)\ttotal: 20m 53s\tremaining: 36m 14s\n",
      "bestTest = 0.6632684584\n",
      "bestIteration = 94\n",
      "64:\tloss: 0.6632685\tbest: 0.6634110 (49)\ttotal: 21m 14s\tremaining: 35m 56s\n",
      "bestTest = 0.6534302892\n",
      "bestIteration = 3\n",
      "65:\tloss: 0.6534303\tbest: 0.6634110 (49)\ttotal: 21m 31s\tremaining: 35m 32s\n",
      "bestTest = 0.6622466196\n",
      "bestIteration = 673\n",
      "66:\tloss: 0.6622466\tbest: 0.6634110 (49)\ttotal: 22m 37s\tremaining: 36m 28s\n",
      "bestTest = 0.6626268387\n",
      "bestIteration = 342\n",
      "67:\tloss: 0.6626268\tbest: 0.6634110 (49)\ttotal: 23m 17s\tremaining: 36m 39s\n",
      "bestTest = 0.6627218935\n",
      "bestIteration = 142\n",
      "68:\tloss: 0.6627219\tbest: 0.6634110 (49)\ttotal: 23m 41s\tremaining: 36m 24s\n",
      "bestTest = 0.6630783489\n",
      "bestIteration = 100\n",
      "69:\tloss: 0.6630783\tbest: 0.6634110 (49)\ttotal: 24m 2s\tremaining: 36m 4s\n",
      "bestTest = 0.6534302892\n",
      "bestIteration = 3\n",
      "70:\tloss: 0.6534303\tbest: 0.6634110 (49)\ttotal: 24m 19s\tremaining: 35m 37s\n",
      "bestTest = 0.6622466196\n",
      "bestIteration = 673\n",
      "71:\tloss: 0.6622466\tbest: 0.6634110 (49)\ttotal: 25m 26s\tremaining: 36m 23s\n",
      "bestTest = 0.6626981298\n",
      "bestIteration = 339\n",
      "72:\tloss: 0.6626981\tbest: 0.6634110 (49)\ttotal: 26m 6s\tremaining: 36m 28s\n",
      "bestTest = 0.6626268387\n",
      "bestIteration = 84\n",
      "73:\tloss: 0.6626268\tbest: 0.6634110 (49)\ttotal: 26m 26s\tremaining: 36m 5s\n",
      "bestTest = 0.6632684584\n",
      "bestIteration = 94\n",
      "74:\tloss: 0.6632685\tbest: 0.6634110 (49)\ttotal: 26m 47s\tremaining: 35m 43s\n",
      "bestTest = 0.6222523229\n",
      "bestIteration = 1\n",
      "75:\tloss: 0.6222523\tbest: 0.6634110 (49)\ttotal: 26m 51s\tremaining: 34m 59s\n",
      "bestTest = 0.6426178085\n",
      "bestIteration = 99\n",
      "76:\tloss: 0.6426178\tbest: 0.6634110 (49)\ttotal: 26m 56s\tremaining: 34m 17s\n",
      "bestTest = 0.6547135287\n",
      "bestIteration = 98\n",
      "77:\tloss: 0.6547135\tbest: 0.6634110 (49)\ttotal: 27m 1s\tremaining: 33m 36s\n",
      "bestTest = 0.6612723082\n",
      "bestIteration = 99\n",
      "78:\tloss: 0.6612723\tbest: 0.6634110 (49)\ttotal: 27m 7s\tremaining: 32m 57s\n",
      "bestTest = 0.6616049999\n",
      "bestIteration = 57\n",
      "79:\tloss: 0.6616050\tbest: 0.6634110 (49)\ttotal: 27m 12s\tremaining: 32m 19s\n",
      "bestTest = 0.6537154535\n",
      "bestIteration = 3\n",
      "80:\tloss: 0.6537155\tbest: 0.6634110 (49)\ttotal: 27m 34s\tremaining: 31m 59s\n",
      "bestTest = 0.6573750624\n",
      "bestIteration = 247\n",
      "81:\tloss: 0.6573751\tbest: 0.6634110 (49)\ttotal: 28m 2s\tremaining: 31m 48s\n",
      "bestTest = 0.6621753285\n",
      "bestIteration = 182\n",
      "82:\tloss: 0.6621753\tbest: 0.6634110 (49)\ttotal: 28m 29s\tremaining: 31m 34s\n",
      "bestTest = 0.6629832941\n",
      "bestIteration = 195\n",
      "83:\tloss: 0.6629833\tbest: 0.6634110 (49)\ttotal: 28m 54s\tremaining: 31m 19s\n",
      "bestTest = 0.6630545852\n",
      "bestIteration = 140\n",
      "84:\tloss: 0.6630546\tbest: 0.6634110 (49)\ttotal: 29m 19s\tremaining: 31m 2s\n",
      "bestTest = 0.6537154535\n",
      "bestIteration = 3\n",
      "85:\tloss: 0.6537155\tbest: 0.6634110 (49)\ttotal: 29m 40s\tremaining: 30m 42s\n",
      "bestTest = 0.6621040375\n",
      "bestIteration = 445\n",
      "86:\tloss: 0.6621040\tbest: 0.6634110 (49)\ttotal: 30m 35s\tremaining: 30m 57s\n",
      "bestTest = 0.6626743661\n",
      "bestIteration = 358\n",
      "87:\tloss: 0.6626744\tbest: 0.6634110 (49)\ttotal: 31m 27s\tremaining: 31m 5s\n",
      "bestTest = 0.6631021126\n",
      "bestIteration = 377\n",
      "88:\tloss: 0.6631021\tbest: 0.6634110 (49)\ttotal: 32m 15s\tremaining: 31m 9s\n",
      "bestTest = 0.6631258763\n",
      "bestIteration = 196\n",
      "89:\tloss: 0.6631259\tbest: 0.6634110 (49)\ttotal: 32m 52s\tremaining: 31m 3s\n",
      "bestTest = 0.6537154535\n",
      "bestIteration = 3\n",
      "90:\tloss: 0.6537155\tbest: 0.6634110 (49)\ttotal: 33m 13s\tremaining: 30m 40s\n",
      "bestTest = 0.6627456572\n",
      "bestIteration = 826\n",
      "91:\tloss: 0.6627457\tbest: 0.6634110 (49)\ttotal: 34m 59s\tremaining: 31m 33s\n",
      "bestTest = 0.6628644757\n",
      "bestIteration = 371\n",
      "92:\tloss: 0.6628645\tbest: 0.6634110 (49)\ttotal: 35m 56s\tremaining: 31m 41s\n",
      "bestTest = 0.662912003\n",
      "bestIteration = 191\n",
      "93:\tloss: 0.6629120\tbest: 0.6634110 (49)\ttotal: 36m 35s\tremaining: 31m 32s\n",
      "bestTest = 0.6635298591\n",
      "bestIteration = 364\n",
      "94:\tloss: 0.6635299\tbest: 0.6635299 (94)\ttotal: 37m 29s\tremaining: 31m 34s\n",
      "bestTest = 0.6537154535\n",
      "bestIteration = 3\n",
      "95:\tloss: 0.6537155\tbest: 0.6635299 (94)\ttotal: 37m 50s\tremaining: 31m 8s\n",
      "bestTest = 0.6626506024\n",
      "bestIteration = 848\n",
      "96:\tloss: 0.6626506\tbest: 0.6635299 (94)\ttotal: 39m 41s\tremaining: 31m 54s\n",
      "bestTest = 0.662912003\n",
      "bestIteration = 577\n",
      "97:\tloss: 0.6629120\tbest: 0.6635299 (94)\ttotal: 40m 58s\tremaining: 32m 11s\n",
      "bestTest = 0.6630545852\n",
      "bestIteration = 262\n",
      "98:\tloss: 0.6630546\tbest: 0.6635299 (94)\ttotal: 41m 43s\tremaining: 32m 1s\n",
      "bestTest = 0.6630545852\n",
      "bestIteration = 177\n",
      "99:\tloss: 0.6630546\tbest: 0.6635299 (94)\ttotal: 42m 19s\tremaining: 31m 44s\n",
      "bestTest = 0.6222523229\n",
      "bestIteration = 1\n",
      "100:\tloss: 0.6222523\tbest: 0.6635299 (94)\ttotal: 42m 24s\tremaining: 31m 4s\n",
      "bestTest = 0.6426178085\n",
      "bestIteration = 99\n",
      "101:\tloss: 0.6426178\tbest: 0.6635299 (94)\ttotal: 42m 29s\tremaining: 30m 24s\n",
      "bestTest = 0.6550937478\n",
      "bestIteration = 99\n",
      "102:\tloss: 0.6550937\tbest: 0.6635299 (94)\ttotal: 42m 36s\tremaining: 29m 47s\n",
      "bestTest = 0.6609871438\n",
      "bestIteration = 98\n",
      "103:\tloss: 0.6609871\tbest: 0.6635299 (94)\ttotal: 42m 44s\tremaining: 29m 10s\n",
      "bestTest = 0.6609396165\n",
      "bestIteration = 94\n",
      "104:\tloss: 0.6609396\tbest: 0.6635299 (94)\ttotal: 42m 51s\tremaining: 28m 34s\n",
      "bestTest = 0.6545947102\n",
      "bestIteration = 4\n",
      "105:\tloss: 0.6545947\tbest: 0.6635299 (94)\ttotal: 43m 20s\tremaining: 28m 12s\n",
      "bestTest = 0.6582543191\n",
      "bestIteration = 249\n",
      "106:\tloss: 0.6582543\tbest: 0.6635299 (94)\ttotal: 43m 59s\tremaining: 27m 57s\n",
      "bestTest = 0.6625555476\n",
      "bestIteration = 234\n",
      "107:\tloss: 0.6625555\tbest: 0.6635299 (94)\ttotal: 44m 39s\tremaining: 27m 42s\n",
      "bestTest = 0.6628882393\n",
      "bestIteration = 105\n",
      "108:\tloss: 0.6628882\tbest: 0.6635299 (94)\ttotal: 45m 16s\tremaining: 27m 24s\n",
      "bestTest = 0.6634348043\n",
      "bestIteration = 58\n",
      "109:\tloss: 0.6634348\tbest: 0.6635299 (94)\ttotal: 45m 50s\tremaining: 27m 5s\n",
      "bestTest = 0.6545947102\n",
      "bestIteration = 4\n",
      "110:\tloss: 0.6545947\tbest: 0.6635299 (94)\ttotal: 46m 19s\tremaining: 26m 42s\n",
      "bestTest = 0.6619376916\n",
      "bestIteration = 432\n",
      "111:\tloss: 0.6619377\tbest: 0.6635299 (94)\ttotal: 47m 38s\tremaining: 26m 48s\n",
      "bestTest = 0.6627456572\n",
      "bestIteration = 420\n",
      "112:\tloss: 0.6627457\tbest: 0.6635299 (94)\ttotal: 48m 57s\tremaining: 26m 51s\n",
      "bestTest = 0.6628882393\n",
      "bestIteration = 105\n",
      "113:\tloss: 0.6628882\tbest: 0.6635299 (94)\ttotal: 49m 42s\tremaining: 26m 35s\n",
      "bestTest = 0.6634348043\n",
      "bestIteration = 58\n",
      "114:\tloss: 0.6634348\tbest: 0.6635299 (94)\ttotal: 50m 17s\tremaining: 26m 14s\n",
      "bestTest = 0.6545947102\n",
      "bestIteration = 4\n",
      "115:\tloss: 0.6545947\tbest: 0.6635299 (94)\ttotal: 50m 45s\tremaining: 25m 49s\n",
      "bestTest = 0.6627218935\n",
      "bestIteration = 746\n",
      "116:\tloss: 0.6627219\tbest: 0.6635299 (94)\ttotal: 53m 13s\tremaining: 26m 22s\n",
      "bestTest = 0.6633872769\n",
      "bestIteration = 494\n",
      "117:\tloss: 0.6633873\tbest: 0.6635299 (94)\ttotal: 54m 59s\tremaining: 26m 34s\n",
      "bestTest = 0.6629595304\n",
      "bestIteration = 143\n",
      "118:\tloss: 0.6629595\tbest: 0.6635299 (94)\ttotal: 55m 52s\tremaining: 26m 17s\n",
      "bestTest = 0.6634823317\n",
      "bestIteration = 58\n",
      "119:\tloss: 0.6634823\tbest: 0.6635299 (94)\ttotal: 56m 26s\tremaining: 25m 52s\n",
      "bestTest = 0.6545947102\n",
      "bestIteration = 4\n",
      "120:\tloss: 0.6545947\tbest: 0.6635299 (94)\ttotal: 56m 55s\tremaining: 25m 24s\n",
      "bestTest = 0.6628169483\n",
      "bestIteration = 796\n",
      "121:\tloss: 0.6628169\tbest: 0.6635299 (94)\ttotal: 59m 28s\tremaining: 25m 50s\n",
      "bestTest = 0.6629832941\n",
      "bestIteration = 590\n",
      "122:\tloss: 0.6629833\tbest: 0.6635299 (94)\ttotal: 1h 1m 26s\tremaining: 25m 58s\n",
      "bestTest = 0.6628882393\n",
      "bestIteration = 105\n",
      "123:\tloss: 0.6628882\tbest: 0.6635299 (94)\ttotal: 1h 2m 12s\tremaining: 25m 35s\n",
      "bestTest = 0.6636011502\n",
      "bestIteration = 133\n",
      "124:\tloss: 0.6636012\tbest: 0.6636012 (124)\ttotal: 1h 2m 59s\tremaining: 25m 11s\n",
      "bestTest = 0.6222523229\n",
      "bestIteration = 1\n",
      "125:\tloss: 0.6222523\tbest: 0.6636012 (124)\ttotal: 1h 3m 5s\tremaining: 24m 31s\n",
      "bestTest = 0.6423564079\n",
      "bestIteration = 99\n",
      "126:\tloss: 0.6423564\tbest: 0.6636012 (124)\ttotal: 1h 3m 10s\tremaining: 23m 52s\n",
      "bestTest = 0.654998693\n",
      "bestIteration = 99\n",
      "127:\tloss: 0.6549987\tbest: 0.6636012 (124)\ttotal: 1h 3m 18s\tremaining: 23m 14s\n",
      "bestTest = 0.6611772534\n",
      "bestIteration = 96\n",
      "128:\tloss: 0.6611773\tbest: 0.6636012 (124)\ttotal: 1h 3m 28s\tremaining: 22m 38s\n",
      "bestTest = 0.6618188731\n",
      "bestIteration = 56\n",
      "129:\tloss: 0.6618189\tbest: 0.6636012 (124)\ttotal: 1h 3m 39s\tremaining: 22m 2s\n",
      "bestTest = 0.6544046007\n",
      "bestIteration = 4\n",
      "130:\tloss: 0.6544046\tbest: 0.6636012 (124)\ttotal: 1h 4m 17s\tremaining: 21m 35s\n",
      "bestTest = 0.6589672299\n",
      "bestIteration = 247\n",
      "131:\tloss: 0.6589672\tbest: 0.6636012 (124)\ttotal: 1h 5m 17s\tremaining: 21m 16s\n",
      "bestTest = 0.6625793113\n",
      "bestIteration = 220\n",
      "132:\tloss: 0.6625793\tbest: 0.6636012 (124)\ttotal: 1h 6m 17s\tremaining: 20m 56s\n",
      "bestTest = 0.6631734037\n",
      "bestIteration = 83\n",
      "133:\tloss: 0.6631734\tbest: 0.6636012 (124)\ttotal: 1h 7m 15s\tremaining: 20m 34s\n",
      "bestTest = 0.6636724412\n",
      "bestIteration = 240\n",
      "134:\tloss: 0.6636724\tbest: 0.6636724 (134)\ttotal: 1h 8m 13s\tremaining: 20m 12s\n",
      "bestTest = 0.6544046007\n",
      "bestIteration = 4\n",
      "135:\tloss: 0.6544046\tbest: 0.6636724 (134)\ttotal: 1h 8m 50s\tremaining: 19m 44s\n",
      "bestTest = 0.6623179107\n",
      "bestIteration = 495\n",
      "136:\tloss: 0.6623179\tbest: 0.6636724 (134)\ttotal: 1h 10m 52s\tremaining: 19m 39s\n",
      "bestTest = 0.6630070578\n",
      "bestIteration = 367\n",
      "137:\tloss: 0.6630071\tbest: 0.6636724 (134)\ttotal: 1h 12m 53s\tremaining: 19m 32s\n",
      "bestTest = 0.6633397495\n",
      "bestIteration = 135\n",
      "138:\tloss: 0.6633397\tbest: 0.6636724 (134)\ttotal: 1h 14m 12s\tremaining: 19m 13s\n",
      "bestTest = 0.6638387871\n",
      "bestIteration = 136\n",
      "139:\tloss: 0.6638388\tbest: 0.6638388 (139)\ttotal: 1h 15m 22s\tremaining: 18m 50s\n",
      "bestTest = 0.6544046007\n",
      "bestIteration = 4\n",
      "140:\tloss: 0.6544046\tbest: 0.6638388 (139)\ttotal: 1h 16m\tremaining: 18m 19s\n",
      "bestTest = 0.6628882393\n",
      "bestIteration = 751\n",
      "141:\tloss: 0.6628882\tbest: 0.6638388 (139)\ttotal: 1h 19m 49s\tremaining: 18m 33s\n",
      "bestTest = 0.6635773865\n",
      "bestIteration = 843\n",
      "142:\tloss: 0.6635774\tbest: 0.6638388 (139)\ttotal: 1h 23m 46s\tremaining: 18m 44s\n",
      "bestTest = 0.6634110406\n",
      "bestIteration = 152\n",
      "143:\tloss: 0.6634110\tbest: 0.6638388 (139)\ttotal: 1h 25m 7s\tremaining: 18m 19s\n",
      "bestTest = 0.6638387871\n",
      "bestIteration = 267\n",
      "144:\tloss: 0.6638388\tbest: 0.6638388 (139)\ttotal: 1h 26m 48s\tremaining: 17m 57s\n",
      "bestTest = 0.6544046007\n",
      "bestIteration = 4\n",
      "145:\tloss: 0.6544046\tbest: 0.6638388 (139)\ttotal: 1h 27m 25s\tremaining: 17m 21s\n",
      "bestTest = 0.6628882393\n",
      "bestIteration = 662\n",
      "146:\tloss: 0.6628882\tbest: 0.6638388 (139)\ttotal: 1h 30m 58s\tremaining: 17m 19s\n",
      "bestTest = 0.6636486776\n",
      "bestIteration = 956\n",
      "147:\tloss: 0.6636487\tbest: 0.6638388 (139)\ttotal: 1h 35m 19s\tremaining: 17m 23s\n",
      "bestTest = 0.6628644757\n",
      "bestIteration = 80\n",
      "148:\tloss: 0.6628645\tbest: 0.6638388 (139)\ttotal: 1h 36m 27s\tremaining: 16m 49s\n",
      "bestTest = 0.6639100782\n",
      "bestIteration = 207\n",
      "149:\tloss: 0.6639101\tbest: 0.6639101 (149)\ttotal: 1h 37m 55s\tremaining: 16m 19s\n",
      "bestTest = 0.6222523229\n",
      "bestIteration = 1\n",
      "150:\tloss: 0.6222523\tbest: 0.6639101 (149)\ttotal: 1h 38m 1s\tremaining: 15m 34s\n",
      "bestTest = 0.6425702811\n",
      "bestIteration = 97\n",
      "151:\tloss: 0.6425703\tbest: 0.6639101 (149)\ttotal: 1h 38m 8s\tremaining: 14m 51s\n",
      "bestTest = 0.6548798745\n",
      "bestIteration = 97\n",
      "152:\tloss: 0.6548799\tbest: 0.6639101 (149)\ttotal: 1h 38m 18s\tremaining: 14m 8s\n",
      "bestTest = 0.6609396165\n",
      "bestIteration = 99\n",
      "153:\tloss: 0.6609396\tbest: 0.6639101 (149)\ttotal: 1h 38m 36s\tremaining: 13m 26s\n",
      "bestTest = 0.6618664005\n",
      "bestIteration = 72\n",
      "154:\tloss: 0.6618664\tbest: 0.6639101 (149)\ttotal: 1h 38m 51s\tremaining: 12m 45s\n",
      "bestTest = 0.6547610561\n",
      "bestIteration = 4\n",
      "155:\tloss: 0.6547611\tbest: 0.6639101 (149)\ttotal: 1h 39m 46s\tremaining: 12m 9s\n",
      "bestTest = 0.6596326133\n",
      "bestIteration = 248\n",
      "156:\tloss: 0.6596326\tbest: 0.6639101 (149)\ttotal: 1h 41m 17s\tremaining: 11m 36s\n",
      "bestTest = 0.6627931846\n",
      "bestIteration = 190\n",
      "157:\tloss: 0.6627932\tbest: 0.6639101 (149)\ttotal: 1h 42m 56s\tremaining: 11m 4s\n",
      "bestTest = 0.6634110406\n",
      "bestIteration = 175\n",
      "158:\tloss: 0.6634110\tbest: 0.6639101 (149)\ttotal: 1h 44m 38s\tremaining: 10m 31s\n",
      "bestTest = 0.6640526603\n",
      "bestIteration = 173\n",
      "159:\tloss: 0.6640527\tbest: 0.6640527 (159)\ttotal: 1h 46m 14s\tremaining: 9m 57s\n",
      "bestTest = 0.6547610561\n",
      "bestIteration = 4\n",
      "160:\tloss: 0.6547611\tbest: 0.6640527 (159)\ttotal: 1h 47m 9s\tremaining: 9m 19s\n",
      "bestTest = 0.6619376916\n",
      "bestIteration = 488\n",
      "161:\tloss: 0.6619377\tbest: 0.6640527 (159)\ttotal: 1h 50m 25s\tremaining: 8m 51s\n",
      "bestTest = 0.6637912597\n",
      "bestIteration = 495\n",
      "162:\tloss: 0.6637913\tbest: 0.6640527 (159)\ttotal: 1h 53m 55s\tremaining: 8m 23s\n",
      "bestTest = 0.6631258763\n",
      "bestIteration = 289\n",
      "163:\tloss: 0.6631259\tbest: 0.6640527 (159)\ttotal: 1h 57m 1s\tremaining: 7m 50s\n",
      "bestTest = 0.6633635132\n",
      "bestIteration = 35\n",
      "164:\tloss: 0.6633635\tbest: 0.6640527 (159)\ttotal: 1h 58m 31s\tremaining: 7m 10s\n",
      "bestTest = 0.6547610561\n",
      "bestIteration = 4\n",
      "165:\tloss: 0.6547611\tbest: 0.6640527 (159)\ttotal: 1h 59m 26s\tremaining: 6m 28s\n",
      "bestTest = 0.6627931846\n",
      "bestIteration = 611\n",
      "166:\tloss: 0.6627932\tbest: 0.6640527 (159)\ttotal: 2h 4m 44s\tremaining: 5m 58s\n",
      "bestTest = 0.6634110406\n",
      "bestIteration = 210\n",
      "167:\tloss: 0.6634110\tbest: 0.6640527 (159)\ttotal: 2h 7m 34s\tremaining: 5m 18s\n",
      "bestTest = 0.6631258763\n",
      "bestIteration = 107\n",
      "168:\tloss: 0.6631259\tbest: 0.6640527 (159)\ttotal: 2h 9m 35s\tremaining: 4m 36s\n",
      "bestTest = 0.6638150234\n",
      "bestIteration = 379\n",
      "169:\tloss: 0.6638150\tbest: 0.6640527 (159)\ttotal: 2h 13m 1s\tremaining: 3m 54s\n",
      "bestTest = 0.6547610561\n",
      "bestIteration = 4\n",
      "170:\tloss: 0.6547611\tbest: 0.6640527 (159)\ttotal: 2h 13m 56s\tremaining: 3m 7s\n",
      "bestTest = 0.6627694209\n",
      "bestIteration = 598\n",
      "171:\tloss: 0.6627694\tbest: 0.6640527 (159)\ttotal: 2h 19m 18s\tremaining: 2m 25s\n",
      "bestTest = 0.6639100782\n",
      "bestIteration = 892\n",
      "172:\tloss: 0.6639101\tbest: 0.6640527 (159)\ttotal: 2h 26m 20s\tremaining: 1m 41s\n",
      "bestTest = 0.6633635132\n",
      "bestIteration = 109\n",
      "173:\tloss: 0.6633635\tbest: 0.6640527 (159)\ttotal: 2h 28m 19s\tremaining: 51.1s\n",
      "bestTest = 0.6638863145\n",
      "bestIteration = 378\n",
      "174:\tloss: 0.6638863\tbest: 0.6640527 (159)\ttotal: 2h 31m 42s\tremaining: 0us\n",
      "Estimating final quality...\n",
      "Training on fold [0/3]\n",
      "bestTest = 0.6636819893\n",
      "bestIteration = 38\n",
      "Training on fold [1/3]\n",
      "bestTest = 0.6632779639\n",
      "bestIteration = 115\n",
      "Training on fold [2/3]\n",
      "bestTest = 0.6625032081\n",
      "bestIteration = 127\n"
     ]
    }
   ],
   "source": [
    "train_data = Pool(data=X_train,\n",
    "                  label=y_train,\n",
    "                  cat_features=cat_features)\n",
    "\n",
    "grid_result = grid_model.grid_search(param_grid=grid_params, X=train_data, plot=True)"
   ]
  },
  {
   "cell_type": "code",
   "execution_count": 14,
   "metadata": {},
   "outputs": [
    {
     "data": {
      "text/plain": [
       "{'depth': 10, 'iterations': 250, 'learning_rate': 0.2}"
      ]
     },
     "execution_count": 14,
     "metadata": {},
     "output_type": "execute_result"
    }
   ],
   "source": [
    "grid_result['params']"
   ]
  },
  {
   "cell_type": "markdown",
   "metadata": {},
   "source": [
    "De acuerdo a los resultados del `grid search`, los mejores hiperparámetros para entrenar el modelo son:\n",
    "- Árboles con 10 niveles de profundidad\n",
    "- 250 iteraciones\n",
    "- Con una taza de aprendizaje de 0.2\n",
    "\n",
    "A continuación se utilizarán los hiperparámetros obtenidos para entrenar un nuevo modelo utilizando también el set de validación de los datos del dataset original."
   ]
  },
  {
   "cell_type": "code",
   "execution_count": 17,
   "metadata": {},
   "outputs": [
    {
     "data": {
      "application/vnd.jupyter.widget-view+json": {
       "model_id": "a6c67da875fc4ea4b581d913926f6354",
       "version_major": 2,
       "version_minor": 0
      },
      "text/plain": [
       "MetricVisualizer(layout=Layout(align_self='stretch', height='500px'))"
      ]
     },
     "metadata": {},
     "output_type": "display_data"
    },
    {
     "name": "stdout",
     "output_type": "stream",
     "text": [
      "0:\tlearn: 0.6729628\ttest: 0.6727463\tbest: 0.6727463 (0)\ttotal: 152ms\tremaining: 37.7s\n",
      "100:\tlearn: 0.6135015\ttest: 0.6229014\tbest: 0.6227694 (38)\ttotal: 24.5s\tremaining: 36.2s\n",
      "200:\tlearn: 0.6082385\ttest: 0.6239435\tbest: 0.6227694 (38)\ttotal: 53.6s\tremaining: 13.1s\n",
      "249:\tlearn: 0.6055725\ttest: 0.6244990\tbest: 0.6227694 (38)\ttotal: 1m 8s\tremaining: 0us\n",
      "\n",
      "bestTest = 0.6227693656\n",
      "bestIteration = 38\n",
      "\n",
      "Shrink model to first 39 iterations.\n"
     ]
    },
    {
     "data": {
      "text/plain": [
       "<catboost.core.CatBoostClassifier at 0x7f0278b66850>"
      ]
     },
     "execution_count": 17,
     "metadata": {},
     "output_type": "execute_result"
    }
   ],
   "source": [
    "eval_data = Pool(data=X_val,\n",
    "                 label=y_val,\n",
    "                 cat_features=cat_features)\n",
    "\n",
    "best_model = CatBoostClassifier(**grid_result['params'])\n",
    "best_model.fit(train_data, eval_set=eval_data, use_best_model=True, verbose=100, plot=True)"
   ]
  },
  {
   "cell_type": "markdown",
   "metadata": {},
   "source": [
    "### 3.2. Comparación del desempeño"
   ]
  },
  {
   "cell_type": "code",
   "execution_count": 9,
   "metadata": {
    "tags": []
   },
   "outputs": [
    {
     "name": "stdout",
     "output_type": "stream",
     "text": [
      "Precisión del modelo sobre los sets de...\n",
      "Entrenamiento: 66.58%\n",
      "Validación: 66.35%\n",
      "Prueba: 66.22%\n"
     ]
    },
    {
     "data": {
      "image/png": "[encoded data removed]",
      "text/plain": [
       "<Figure size 432x288 with 2 Axes>"
      ]
     },
     "metadata": {
      "needs_background": "light"
     },
     "output_type": "display_data"
    }
   ],
   "source": [
    "print_results(model, (X_train, y_train), (X_val, y_val), (X_test, y_test))"
   ]
  },
  {
   "cell_type": "code",
   "execution_count": 18,
   "metadata": {},
   "outputs": [
    {
     "name": "stdout",
     "output_type": "stream",
     "text": [
      "Precisión del modelo sobre los sets de...\n",
      "Entrenamiento: 66.86%\n",
      "Validación: 66.22%\n",
      "Prueba: 66.08%\n"
     ]
    },
    {
     "data": {
      "image/png": "[encoded data removed]",
      "text/plain": [
       "<Figure size 432x288 with 2 Axes>"
      ]
     },
     "metadata": {
      "needs_background": "light"
     },
     "output_type": "display_data"
    }
   ],
   "source": [
    "print_results(best_model, (X_train, y_train), (X_val, y_val), (X_test, y_test))"
   ]
  },
  {
   "cell_type": "markdown",
   "metadata": {},
   "source": [
    "En las dos celdas de arriba se puede observar el desempeño del modelo entrenado inicialmente con los datos originales, así como el desempeño del modelo entrenado con los hiperparámetros obtenidos a través del método de `grid search`. Al realizar una comparación se puede notar como ambos modelos cuentan con un desempeño similar, con el primer modelo teniendo una precisión ligeramente más homogénea a través de los diferentes sets de datos. Por su parte, el modelo `best_model` presenta una puntuación ligeramente mejor en la detección de **Verdaderos Positivos** y **Falsos Positivos**, al costo de un desempeño ligeramente peor en cuanto a los casos negativos se trata.\n",
    "\n",
    "Basado en este análisis, ambos modelos son prácticamente intercambiables, siendo el primer modelo ligeramente superior al entrenado con los parámetos obtenidos durante el proceso de grid search."
   ]
  },
  {
   "cell_type": "markdown",
   "metadata": {},
   "source": [
    "### 3.3. Aplicación del modelo con grid search sobre dataframe \"covid_data\""
   ]
  },
  {
   "cell_type": "markdown",
   "metadata": {},
   "source": [
    "En las siguientes celdas se repetirán los procedimientos anteriormente realizados para encontrar los mejores hiperparámetros para el modelo que recibirá el dataframe que también contiene los datos simulados."
   ]
  },
  {
   "cell_type": "code",
   "execution_count": 21,
   "metadata": {},
   "outputs": [
    {
     "data": {
      "application/vnd.jupyter.widget-view+json": {
       "model_id": "0afcb329c087451f8d00dba97ee9b712",
       "version_major": 2,
       "version_minor": 0
      },
      "text/plain": [
       "MetricVisualizer(layout=Layout(align_self='stretch', height='500px'))"
      ]
     },
     "metadata": {},
     "output_type": "display_data"
    },
    {
     "name": "stdout",
     "output_type": "stream",
     "text": [
      "bestTest = 0.7095955622\n",
      "bestIteration = 1\n",
      "0:\tloss: 0.7095956\tbest: 0.7095956 (0)\ttotal: 2.21s\tremaining: 6m 23s\n",
      "bestTest = 0.7103824062\n",
      "bestIteration = 99\n",
      "1:\tloss: 0.7103824\tbest: 0.7103824 (1)\ttotal: 4.33s\tremaining: 6m 14s\n",
      "bestTest = 0.7112479345\n",
      "bestIteration = 97\n",
      "2:\tloss: 0.7112479\tbest: 0.7112479 (2)\ttotal: 6.5s\tremaining: 6m 12s\n",
      "bestTest = 0.7156345897\n",
      "bestIteration = 95\n",
      "3:\tloss: 0.7156346\tbest: 0.7156346 (3)\ttotal: 8.62s\tremaining: 6m 8s\n",
      "bestTest = 0.7162050515\n",
      "bestIteration = 90\n",
      "4:\tloss: 0.7162051\tbest: 0.7162051 (4)\ttotal: 10.7s\tremaining: 6m 4s\n",
      "bestTest = 0.7095955622\n",
      "bestIteration = 1\n",
      "5:\tloss: 0.7095956\tbest: 0.7162051 (4)\ttotal: 15s\tremaining: 7m 2s\n",
      "bestTest = 0.7110708946\n",
      "bestIteration = 237\n",
      "6:\tloss: 0.7110709\tbest: 0.7162051 (4)\ttotal: 20.2s\tremaining: 8m 4s\n",
      "bestTest = 0.7151624833\n",
      "bestIteration = 231\n",
      "7:\tloss: 0.7151625\tbest: 0.7162051 (4)\ttotal: 25.3s\tremaining: 8m 47s\n",
      "bestTest = 0.7167165001\n",
      "bestIteration = 159\n",
      "8:\tloss: 0.7167165\tbest: 0.7167165 (8)\ttotal: 30s\tremaining: 9m 12s\n",
      "bestTest = 0.7168738689\n",
      "bestIteration = 158\n",
      "9:\tloss: 0.7168739\tbest: 0.7168739 (9)\ttotal: 34.5s\tremaining: 9m 28s\n",
      "bestTest = 0.7095955622\n",
      "bestIteration = 1\n",
      "10:\tloss: 0.7095956\tbest: 0.7168739 (9)\ttotal: 38.6s\tremaining: 9m 36s\n",
      "bestTest = 0.7142182705\n",
      "bestIteration = 495\n",
      "11:\tloss: 0.7142183\tbest: 0.7168739 (9)\ttotal: 48.6s\tremaining: 11m\n",
      "bestTest = 0.7162443937\n",
      "bestIteration = 385\n",
      "12:\tloss: 0.7162444\tbest: 0.7168739 (9)\ttotal: 58.2s\tremaining: 12m 5s\n",
      "bestTest = 0.7167165001\n",
      "bestIteration = 159\n",
      "13:\tloss: 0.7167165\tbest: 0.7168739 (9)\ttotal: 1m 4s\tremaining: 12m 24s\n",
      "bestTest = 0.7167361712\n",
      "bestIteration = 152\n",
      "14:\tloss: 0.7167362\tbest: 0.7168739 (9)\ttotal: 1m 11s\tremaining: 12m 37s\n",
      "bestTest = 0.7095955622\n",
      "bestIteration = 1\n",
      "15:\tloss: 0.7095956\tbest: 0.7168739 (9)\ttotal: 1m 15s\tremaining: 12m 26s\n",
      "bestTest = 0.7155755764\n",
      "bestIteration = 989\n",
      "16:\tloss: 0.7155756\tbest: 0.7168739 (9)\ttotal: 1m 34s\tremaining: 14m 39s\n",
      "bestTest = 0.7162443937\n",
      "bestIteration = 385\n",
      "17:\tloss: 0.7162444\tbest: 0.7168739 (9)\ttotal: 1m 45s\tremaining: 15m 21s\n",
      "bestTest = 0.7167165001\n",
      "bestIteration = 159\n",
      "18:\tloss: 0.7167165\tbest: 0.7168739 (9)\ttotal: 1m 52s\tremaining: 15m 20s\n",
      "bestTest = 0.716696829\n",
      "bestIteration = 116\n",
      "19:\tloss: 0.7166968\tbest: 0.7168739 (9)\ttotal: 1m 57s\tremaining: 15m 13s\n",
      "bestTest = 0.7095955622\n",
      "bestIteration = 1\n",
      "20:\tloss: 0.7095956\tbest: 0.7168739 (9)\ttotal: 2m 2s\tremaining: 14m 54s\n",
      "bestTest = 0.7164804469\n",
      "bestIteration = 1150\n",
      "21:\tloss: 0.7164804\tbest: 0.7168739 (9)\ttotal: 2m 27s\tremaining: 17m 8s\n",
      "bestTest = 0.7162443937\n",
      "bestIteration = 385\n",
      "22:\tloss: 0.7162444\tbest: 0.7168739 (9)\ttotal: 2m 38s\tremaining: 17m 30s\n",
      "bestTest = 0.7167165001\n",
      "bestIteration = 159\n",
      "23:\tloss: 0.7167165\tbest: 0.7168739 (9)\ttotal: 2m 45s\tremaining: 17m 23s\n",
      "bestTest = 0.7168148556\n",
      "bestIteration = 134\n",
      "24:\tloss: 0.7168149\tbest: 0.7168739 (9)\ttotal: 2m 51s\tremaining: 17m 11s\n",
      "bestTest = 0.7122511606\n",
      "bestIteration = 2\n",
      "25:\tloss: 0.7122512\tbest: 0.7168739 (9)\ttotal: 2m 54s\tremaining: 16m 41s\n",
      "bestTest = 0.7122511606\n",
      "bestIteration = 2\n",
      "26:\tloss: 0.7122512\tbest: 0.7168739 (9)\ttotal: 2m 57s\tremaining: 16m 13s\n",
      "bestTest = 0.7133724133\n",
      "bestIteration = 99\n",
      "27:\tloss: 0.7133724\tbest: 0.7168739 (9)\ttotal: 3m\tremaining: 15m 47s\n",
      "bestTest = 0.7169328822\n",
      "bestIteration = 92\n",
      "28:\tloss: 0.7169329\tbest: 0.7169329 (28)\ttotal: 3m 3s\tremaining: 15m 22s\n",
      "bestTest = 0.7166181446\n",
      "bestIteration = 99\n",
      "29:\tloss: 0.7166181\tbest: 0.7169329 (28)\ttotal: 3m 5s\tremaining: 14m 56s\n",
      "bestTest = 0.7122511606\n",
      "bestIteration = 2\n",
      "30:\tloss: 0.7122512\tbest: 0.7169329 (28)\ttotal: 3m 11s\tremaining: 14m 48s\n",
      "bestTest = 0.7128609647\n",
      "bestIteration = 249\n",
      "31:\tloss: 0.7128610\tbest: 0.7169329 (28)\ttotal: 3m 18s\tremaining: 14m 45s\n",
      "bestTest = 0.7162247226\n",
      "bestIteration = 243\n",
      "32:\tloss: 0.7162247\tbest: 0.7169329 (28)\ttotal: 3m 24s\tremaining: 14m 40s\n",
      "bestTest = 0.7172279487\n",
      "bestIteration = 236\n",
      "33:\tloss: 0.7172279\tbest: 0.7172279 (33)\ttotal: 3m 30s\tremaining: 14m 32s\n",
      "bestTest = 0.7165984735\n",
      "bestIteration = 29\n",
      "34:\tloss: 0.7165985\tbest: 0.7172279 (33)\ttotal: 3m 35s\tremaining: 14m 20s\n",
      "bestTest = 0.7122511606\n",
      "bestIteration = 2\n",
      "35:\tloss: 0.7122512\tbest: 0.7172279 (33)\ttotal: 3m 40s\tremaining: 14m 12s\n",
      "bestTest = 0.7152018255\n",
      "bestIteration = 415\n",
      "36:\tloss: 0.7152018\tbest: 0.7172279 (33)\ttotal: 3m 54s\tremaining: 14m 33s\n",
      "bestTest = 0.7170115666\n",
      "bestIteration = 389\n",
      "37:\tloss: 0.7170116\tbest: 0.7172279 (33)\ttotal: 4m 6s\tremaining: 14m 46s\n",
      "bestTest = 0.7173263042\n",
      "bestIteration = 210\n",
      "38:\tloss: 0.7173263\tbest: 0.7173263 (38)\ttotal: 4m 14s\tremaining: 14m 48s\n",
      "bestTest = 0.717090251\n",
      "bestIteration = 176\n",
      "39:\tloss: 0.7170903\tbest: 0.7173263 (38)\ttotal: 4m 22s\tremaining: 14m 45s\n",
      "bestTest = 0.7122511606\n",
      "bestIteration = 2\n",
      "40:\tloss: 0.7122512\tbest: 0.7173263 (38)\ttotal: 4m 27s\tremaining: 14m 35s\n",
      "bestTest = 0.7163230781\n",
      "bestIteration = 956\n",
      "41:\tloss: 0.7163231\tbest: 0.7173263 (38)\ttotal: 4m 52s\tremaining: 15m 27s\n",
      "bestTest = 0.7170115666\n",
      "bestIteration = 389\n",
      "42:\tloss: 0.7170116\tbest: 0.7173263 (38)\ttotal: 5m 6s\tremaining: 15m 40s\n",
      "bestTest = 0.7174443308\n",
      "bestIteration = 256\n",
      "43:\tloss: 0.7174443\tbest: 0.7174443 (43)\ttotal: 5m 16s\tremaining: 15m 41s\n",
      "bestTest = 0.7176016996\n",
      "bestIteration = 486\n",
      "44:\tloss: 0.7176017\tbest: 0.7176017 (44)\ttotal: 5m 29s\tremaining: 15m 52s\n",
      "bestTest = 0.7122511606\n",
      "bestIteration = 2\n",
      "45:\tloss: 0.7122512\tbest: 0.7176017 (44)\ttotal: 5m 35s\tremaining: 15m 40s\n",
      "bestTest = 0.7170115666\n",
      "bestIteration = 1225\n",
      "46:\tloss: 0.7170116\tbest: 0.7176017 (44)\ttotal: 6m 8s\tremaining: 16m 43s\n",
      "bestTest = 0.7170115666\n",
      "bestIteration = 389\n",
      "47:\tloss: 0.7170116\tbest: 0.7176017 (44)\ttotal: 6m 22s\tremaining: 16m 50s\n",
      "bestTest = 0.7173263042\n",
      "bestIteration = 210\n",
      "48:\tloss: 0.7173263\tbest: 0.7176017 (44)\ttotal: 6m 30s\tremaining: 16m 44s\n",
      "bestTest = 0.7165984735\n",
      "bestIteration = 29\n",
      "49:\tloss: 0.7165985\tbest: 0.7176017 (44)\ttotal: 6m 35s\tremaining: 16m 29s\n",
      "bestTest = 0.7124085294\n",
      "bestIteration = 0\n",
      "50:\tloss: 0.7124085\tbest: 0.7176017 (44)\ttotal: 6m 39s\tremaining: 16m 12s\n",
      "bestTest = 0.7124085294\n",
      "bestIteration = 0\n",
      "51:\tloss: 0.7124085\tbest: 0.7176017 (44)\ttotal: 6m 43s\tremaining: 15m 55s\n",
      "bestTest = 0.7155559053\n",
      "bestIteration = 99\n",
      "52:\tloss: 0.7155559\tbest: 0.7176017 (44)\ttotal: 6m 48s\tremaining: 15m 39s\n",
      "bestTest = 0.7177393973\n",
      "bestIteration = 99\n",
      "53:\tloss: 0.7177394\tbest: 0.7177394 (53)\ttotal: 6m 51s\tremaining: 15m 21s\n",
      "bestTest = 0.7175033441\n",
      "bestIteration = 76\n",
      "54:\tloss: 0.7175033\tbest: 0.7177394 (53)\ttotal: 6m 54s\tremaining: 15m 4s\n",
      "bestTest = 0.7124085294\n",
      "bestIteration = 0\n",
      "55:\tloss: 0.7124085\tbest: 0.7177394 (53)\ttotal: 7m 2s\tremaining: 14m 58s\n",
      "bestTest = 0.7150837989\n",
      "bestIteration = 249\n",
      "56:\tloss: 0.7150838\tbest: 0.7177394 (53)\ttotal: 7m 12s\tremaining: 14m 56s\n",
      "bestTest = 0.7169918955\n",
      "bestIteration = 239\n",
      "57:\tloss: 0.7169919\tbest: 0.7177394 (53)\ttotal: 7m 21s\tremaining: 14m 50s\n",
      "bestTest = 0.7177984106\n",
      "bestIteration = 184\n",
      "58:\tloss: 0.7177984\tbest: 0.7177984 (58)\ttotal: 7m 28s\tremaining: 14m 41s\n",
      "bestTest = 0.7178967661\n",
      "bestIteration = 187\n",
      "59:\tloss: 0.7178968\tbest: 0.7178968 (59)\ttotal: 7m 34s\tremaining: 14m 31s\n",
      "bestTest = 0.7124085294\n",
      "bestIteration = 0\n",
      "60:\tloss: 0.7124085\tbest: 0.7178968 (59)\ttotal: 7m 42s\tremaining: 14m 25s\n",
      "bestTest = 0.7163624203\n",
      "bestIteration = 476\n",
      "61:\tloss: 0.7163624\tbest: 0.7178968 (59)\ttotal: 8m 1s\tremaining: 14m 38s\n",
      "bestTest = 0.7174246597\n",
      "bestIteration = 430\n",
      "62:\tloss: 0.7174247\tbest: 0.7178968 (59)\ttotal: 8m 16s\tremaining: 14m 42s\n",
      "bestTest = 0.7177984106\n",
      "bestIteration = 184\n",
      "63:\tloss: 0.7177984\tbest: 0.7178968 (59)\ttotal: 8m 25s\tremaining: 14m 37s\n",
      "bestTest = 0.7181328193\n",
      "bestIteration = 494\n",
      "64:\tloss: 0.7181328\tbest: 0.7181328 (64)\ttotal: 8m 37s\tremaining: 14m 34s\n",
      "bestTest = 0.7124085294\n",
      "bestIteration = 0\n",
      "65:\tloss: 0.7124085\tbest: 0.7181328 (64)\ttotal: 8m 45s\tremaining: 14m 27s\n",
      "bestTest = 0.7170705799\n",
      "bestIteration = 977\n",
      "66:\tloss: 0.7170706\tbest: 0.7181328 (64)\ttotal: 9m 17s\tremaining: 14m 58s\n",
      "bestTest = 0.7174246597\n",
      "bestIteration = 430\n",
      "67:\tloss: 0.7174247\tbest: 0.7181328 (64)\ttotal: 9m 35s\tremaining: 15m 4s\n",
      "bestTest = 0.717877095\n",
      "bestIteration = 318\n",
      "68:\tloss: 0.7178771\tbest: 0.7181328 (64)\ttotal: 9m 47s\tremaining: 15m 2s\n",
      "bestTest = 0.7177197262\n",
      "bestIteration = 350\n",
      "69:\tloss: 0.7177197\tbest: 0.7181328 (64)\ttotal: 10m\tremaining: 15m 1s\n",
      "bestTest = 0.7124085294\n",
      "bestIteration = 0\n",
      "70:\tloss: 0.7124085\tbest: 0.7181328 (64)\ttotal: 10m 9s\tremaining: 14m 52s\n",
      "bestTest = 0.7171689354\n",
      "bestIteration = 1144\n",
      "71:\tloss: 0.7171689\tbest: 0.7181328 (64)\ttotal: 10m 49s\tremaining: 15m 29s\n",
      "bestTest = 0.7174246597\n",
      "bestIteration = 430\n",
      "72:\tloss: 0.7174247\tbest: 0.7181328 (64)\ttotal: 11m 7s\tremaining: 15m 32s\n",
      "bestTest = 0.7177984106\n",
      "bestIteration = 184\n",
      "73:\tloss: 0.7177984\tbest: 0.7181328 (64)\ttotal: 11m 16s\tremaining: 15m 23s\n",
      "bestTest = 0.7179164372\n",
      "bestIteration = 259\n",
      "74:\tloss: 0.7179164\tbest: 0.7181328 (64)\ttotal: 11m 27s\tremaining: 15m 16s\n",
      "bestTest = 0.7127626092\n",
      "bestIteration = 0\n",
      "75:\tloss: 0.7127626\tbest: 0.7181328 (64)\ttotal: 11m 34s\tremaining: 15m 4s\n",
      "bestTest = 0.7133330711\n",
      "bestIteration = 97\n",
      "76:\tloss: 0.7133331\tbest: 0.7181328 (64)\ttotal: 11m 41s\tremaining: 14m 52s\n",
      "bestTest = 0.7161263671\n",
      "bestIteration = 98\n",
      "77:\tloss: 0.7161264\tbest: 0.7181328 (64)\ttotal: 11m 47s\tremaining: 14m 39s\n",
      "bestTest = 0.7177197262\n",
      "bestIteration = 80\n",
      "78:\tloss: 0.7177197\tbest: 0.7181328 (64)\ttotal: 11m 51s\tremaining: 14m 24s\n",
      "bestTest = 0.7175820285\n",
      "bestIteration = 98\n",
      "79:\tloss: 0.7175820\tbest: 0.7181328 (64)\ttotal: 11m 55s\tremaining: 14m 9s\n",
      "bestTest = 0.7127626092\n",
      "bestIteration = 0\n",
      "80:\tloss: 0.7127626\tbest: 0.7181328 (64)\ttotal: 12m 8s\tremaining: 14m 5s\n",
      "bestTest = 0.7157919585\n",
      "bestIteration = 248\n",
      "81:\tloss: 0.7157920\tbest: 0.7181328 (64)\ttotal: 12m 24s\tremaining: 14m 3s\n",
      "bestTest = 0.7174246597\n",
      "bestIteration = 244\n",
      "82:\tloss: 0.7174247\tbest: 0.7181328 (64)\ttotal: 12m 35s\tremaining: 13m 57s\n",
      "bestTest = 0.7178574239\n",
      "bestIteration = 118\n",
      "83:\tloss: 0.7178574\tbest: 0.7181328 (64)\ttotal: 12m 44s\tremaining: 13m 47s\n",
      "bestTest = 0.7179951216\n",
      "bestIteration = 85\n",
      "84:\tloss: 0.7179951\tbest: 0.7181328 (64)\ttotal: 12m 51s\tremaining: 13m 36s\n",
      "bestTest = 0.7127626092\n",
      "bestIteration = 0\n",
      "85:\tloss: 0.7127626\tbest: 0.7181328 (64)\ttotal: 13m 4s\tremaining: 13m 32s\n",
      "bestTest = 0.7169525533\n",
      "bestIteration = 444\n",
      "86:\tloss: 0.7169526\tbest: 0.7181328 (64)\ttotal: 13m 31s\tremaining: 13m 40s\n",
      "bestTest = 0.7174246597\n",
      "bestIteration = 244\n",
      "87:\tloss: 0.7174247\tbest: 0.7181328 (64)\ttotal: 13m 48s\tremaining: 13m 39s\n",
      "bestTest = 0.7179557794\n",
      "bestIteration = 211\n",
      "88:\tloss: 0.7179558\tbest: 0.7181328 (64)\ttotal: 14m\tremaining: 13m 32s\n",
      "bestTest = 0.7178180817\n",
      "bestIteration = 101\n",
      "89:\tloss: 0.7178181\tbest: 0.7181328 (64)\ttotal: 14m 9s\tremaining: 13m 22s\n",
      "bestTest = 0.7127626092\n",
      "bestIteration = 0\n",
      "90:\tloss: 0.7127626\tbest: 0.7181328 (64)\ttotal: 14m 22s\tremaining: 13m 16s\n",
      "bestTest = 0.7175623574\n",
      "bestIteration = 898\n",
      "91:\tloss: 0.7175624\tbest: 0.7181328 (64)\ttotal: 15m 4s\tremaining: 13m 35s\n",
      "bestTest = 0.7174246597\n",
      "bestIteration = 244\n",
      "92:\tloss: 0.7174247\tbest: 0.7181328 (64)\ttotal: 15m 21s\tremaining: 13m 32s\n",
      "bestTest = 0.7178574239\n",
      "bestIteration = 118\n",
      "93:\tloss: 0.7178574\tbest: 0.7181328 (64)\ttotal: 15m 31s\tremaining: 13m 22s\n",
      "bestTest = 0.7178180817\n",
      "bestIteration = 101\n",
      "94:\tloss: 0.7178181\tbest: 0.7181328 (64)\ttotal: 15m 40s\tremaining: 13m 11s\n",
      "bestTest = 0.7127626092\n",
      "bestIteration = 0\n",
      "95:\tloss: 0.7127626\tbest: 0.7181328 (64)\ttotal: 15m 53s\tremaining: 13m 4s\n",
      "bestTest = 0.7175623574\n",
      "bestIteration = 898\n",
      "96:\tloss: 0.7175624\tbest: 0.7181328 (64)\ttotal: 16m 36s\tremaining: 13m 21s\n",
      "bestTest = 0.7176213707\n",
      "bestIteration = 564\n",
      "97:\tloss: 0.7176214\tbest: 0.7181328 (64)\ttotal: 17m 2s\tremaining: 13m 23s\n",
      "bestTest = 0.7180934771\n",
      "bestIteration = 434\n",
      "98:\tloss: 0.7180935\tbest: 0.7181328 (64)\ttotal: 17m 20s\tremaining: 13m 18s\n",
      "bestTest = 0.7177393973\n",
      "bestIteration = 81\n",
      "99:\tloss: 0.7177394\tbest: 0.7181328 (64)\ttotal: 17m 28s\tremaining: 13m 6s\n",
      "bestTest = 0.7139428751\n",
      "bestIteration = 3\n",
      "100:\tloss: 0.7139429\tbest: 0.7181328 (64)\ttotal: 17m 39s\tremaining: 12m 56s\n",
      "bestTest = 0.7141395861\n",
      "bestIteration = 99\n",
      "101:\tloss: 0.7141396\tbest: 0.7181328 (64)\ttotal: 17m 50s\tremaining: 12m 46s\n",
      "bestTest = 0.7167361712\n",
      "bestIteration = 92\n",
      "102:\tloss: 0.7167362\tbest: 0.7181328 (64)\ttotal: 18m\tremaining: 12m 35s\n",
      "bestTest = 0.7174049886\n",
      "bestIteration = 42\n",
      "103:\tloss: 0.7174050\tbest: 0.7181328 (64)\ttotal: 18m 5s\tremaining: 12m 21s\n",
      "bestTest = 0.7169132111\n",
      "bestIteration = 95\n",
      "104:\tloss: 0.7169132\tbest: 0.7181328 (64)\ttotal: 18m 9s\tremaining: 12m 6s\n",
      "bestTest = 0.7139428751\n",
      "bestIteration = 3\n",
      "105:\tloss: 0.7139429\tbest: 0.7181328 (64)\ttotal: 18m 32s\tremaining: 12m 4s\n",
      "bestTest = 0.7162640648\n",
      "bestIteration = 240\n",
      "106:\tloss: 0.7162641\tbest: 0.7181328 (64)\ttotal: 18m 56s\tremaining: 12m 2s\n",
      "bestTest = 0.717680384\n",
      "bestIteration = 208\n",
      "107:\tloss: 0.7176804\tbest: 0.7181328 (64)\ttotal: 19m 12s\tremaining: 11m 55s\n",
      "bestTest = 0.7178967661\n",
      "bestIteration = 243\n",
      "108:\tloss: 0.7178968\tbest: 0.7181328 (64)\ttotal: 19m 22s\tremaining: 11m 43s\n",
      "bestTest = 0.7172476198\n",
      "bestIteration = 130\n",
      "109:\tloss: 0.7172476\tbest: 0.7181328 (64)\ttotal: 19m 30s\tremaining: 11m 31s\n",
      "bestTest = 0.7139428751\n",
      "bestIteration = 3\n",
      "110:\tloss: 0.7139429\tbest: 0.7181328 (64)\ttotal: 19m 53s\tremaining: 11m 28s\n",
      "bestTest = 0.7173853175\n",
      "bestIteration = 421\n",
      "111:\tloss: 0.7173853\tbest: 0.7181328 (64)\ttotal: 20m 31s\tremaining: 11m 32s\n",
      "bestTest = 0.7179951216\n",
      "bestIteration = 383\n",
      "112:\tloss: 0.7179951\tbest: 0.7181328 (64)\ttotal: 20m 55s\tremaining: 11m 28s\n",
      "bestTest = 0.7179951216\n",
      "bestIteration = 235\n",
      "113:\tloss: 0.7179951\tbest: 0.7181328 (64)\ttotal: 21m 11s\tremaining: 11m 20s\n",
      "bestTest = 0.7171492643\n",
      "bestIteration = 80\n",
      "114:\tloss: 0.7171493\tbest: 0.7181328 (64)\ttotal: 21m 21s\tremaining: 11m 8s\n",
      "bestTest = 0.7139428751\n",
      "bestIteration = 3\n",
      "115:\tloss: 0.7139429\tbest: 0.7181328 (64)\ttotal: 21m 43s\tremaining: 11m 3s\n",
      "bestTest = 0.7173853175\n",
      "bestIteration = 421\n",
      "116:\tloss: 0.7173853\tbest: 0.7181328 (64)\ttotal: 22m 25s\tremaining: 11m 7s\n",
      "bestTest = 0.7179951216\n",
      "bestIteration = 383\n",
      "117:\tloss: 0.7179951\tbest: 0.7181328 (64)\ttotal: 22m 51s\tremaining: 11m 2s\n",
      "bestTest = 0.7178967661\n",
      "bestIteration = 174\n",
      "118:\tloss: 0.7178968\tbest: 0.7181328 (64)\ttotal: 23m 5s\tremaining: 10m 51s\n",
      "bestTest = 0.7178180817\n",
      "bestIteration = 542\n",
      "119:\tloss: 0.7178181\tbest: 0.7181328 (64)\ttotal: 23m 28s\tremaining: 10m 45s\n",
      "bestTest = 0.7139428751\n",
      "bestIteration = 3\n",
      "120:\tloss: 0.7139429\tbest: 0.7181328 (64)\ttotal: 23m 51s\tremaining: 10m 38s\n",
      "bestTest = 0.7173853175\n",
      "bestIteration = 421\n",
      "121:\tloss: 0.7173853\tbest: 0.7181328 (64)\ttotal: 24m 34s\tremaining: 10m 40s\n",
      "bestTest = 0.7179951216\n",
      "bestIteration = 383\n",
      "122:\tloss: 0.7179951\tbest: 0.7181328 (64)\ttotal: 25m 1s\tremaining: 10m 34s\n",
      "bestTest = 0.7178967661\n",
      "bestIteration = 174\n",
      "123:\tloss: 0.7178968\tbest: 0.7181328 (64)\ttotal: 25m 15s\tremaining: 10m 23s\n",
      "bestTest = 0.7180344638\n",
      "bestIteration = 676\n",
      "124:\tloss: 0.7180345\tbest: 0.7181328 (64)\ttotal: 25m 44s\tremaining: 10m 17s\n",
      "bestTest = 0.7144346526\n",
      "bestIteration = 11\n",
      "125:\tloss: 0.7144347\tbest: 0.7181328 (64)\ttotal: 26m 3s\tremaining: 10m 8s\n",
      "bestTest = 0.7144543237\n",
      "bestIteration = 94\n",
      "126:\tloss: 0.7144543\tbest: 0.7181328 (64)\ttotal: 26m 22s\tremaining: 9m 58s\n",
      "bestTest = 0.7168738689\n",
      "bestIteration = 98\n",
      "127:\tloss: 0.7168739\tbest: 0.7181328 (64)\ttotal: 26m 35s\tremaining: 9m 45s\n",
      "bestTest = 0.7179557794\n",
      "bestIteration = 81\n",
      "128:\tloss: 0.7179558\tbest: 0.7181328 (64)\ttotal: 26m 42s\tremaining: 9m 31s\n",
      "bestTest = 0.7174640019\n",
      "bestIteration = 66\n",
      "129:\tloss: 0.7174640\tbest: 0.7181328 (64)\ttotal: 26m 48s\tremaining: 9m 16s\n",
      "bestTest = 0.7144346526\n",
      "bestIteration = 11\n",
      "130:\tloss: 0.7144347\tbest: 0.7181328 (64)\ttotal: 27m 29s\tremaining: 9m 13s\n",
      "bestTest = 0.7162050515\n",
      "bestIteration = 249\n",
      "131:\tloss: 0.7162051\tbest: 0.7181328 (64)\ttotal: 28m 5s\tremaining: 9m 9s\n",
      "bestTest = 0.7180147927\n",
      "bestIteration = 239\n",
      "132:\tloss: 0.7180148\tbest: 0.7181328 (64)\ttotal: 28m 26s\tremaining: 8m 59s\n",
      "bestTest = 0.7180147927\n",
      "bestIteration = 131\n",
      "133:\tloss: 0.7180148\tbest: 0.7181328 (64)\ttotal: 28m 38s\tremaining: 8m 45s\n",
      "bestTest = 0.7179164372\n",
      "bestIteration = 139\n",
      "134:\tloss: 0.7179164\tbest: 0.7181328 (64)\ttotal: 28m 50s\tremaining: 8m 32s\n",
      "bestTest = 0.7144346526\n",
      "bestIteration = 11\n",
      "135:\tloss: 0.7144347\tbest: 0.7181328 (64)\ttotal: 29m 31s\tremaining: 8m 27s\n",
      "bestTest = 0.717286962\n",
      "bestIteration = 469\n",
      "136:\tloss: 0.7172870\tbest: 0.7181328 (64)\ttotal: 30m 21s\tremaining: 8m 25s\n",
      "bestTest = 0.7182115037\n",
      "bestIteration = 295\n",
      "137:\tloss: 0.7182115\tbest: 0.7182115 (137)\ttotal: 30m 52s\tremaining: 8m 16s\n",
      "bestTest = 0.7181721615\n",
      "bestIteration = 214\n",
      "138:\tloss: 0.7181722\tbest: 0.7182115 (137)\ttotal: 31m 11s\tremaining: 8m 4s\n",
      "bestTest = 0.7178967661\n",
      "bestIteration = 189\n",
      "139:\tloss: 0.7178968\tbest: 0.7182115 (137)\ttotal: 31m 28s\tremaining: 7m 52s\n",
      "bestTest = 0.7144346526\n",
      "bestIteration = 11\n",
      "140:\tloss: 0.7144347\tbest: 0.7182115 (137)\ttotal: 32m 8s\tremaining: 7m 45s\n",
      "bestTest = 0.717286962\n",
      "bestIteration = 469\n",
      "141:\tloss: 0.7172870\tbest: 0.7182115 (137)\ttotal: 33m 6s\tremaining: 7m 41s\n",
      "bestTest = 0.7182115037\n",
      "bestIteration = 295\n",
      "142:\tloss: 0.7182115\tbest: 0.7182115 (137)\ttotal: 33m 37s\tremaining: 7m 31s\n",
      "bestTest = 0.7180147927\n",
      "bestIteration = 131\n",
      "143:\tloss: 0.7180148\tbest: 0.7182115 (137)\ttotal: 33m 52s\tremaining: 7m 17s\n",
      "bestTest = 0.7179164372\n",
      "bestIteration = 142\n",
      "144:\tloss: 0.7179164\tbest: 0.7182115 (137)\ttotal: 34m 7s\tremaining: 7m 3s\n",
      "bestTest = 0.7144346526\n",
      "bestIteration = 11\n",
      "145:\tloss: 0.7144347\tbest: 0.7182115 (137)\ttotal: 34m 48s\tremaining: 6m 54s\n",
      "bestTest = 0.717286962\n",
      "bestIteration = 469\n",
      "146:\tloss: 0.7172870\tbest: 0.7182115 (137)\ttotal: 35m 45s\tremaining: 6m 48s\n",
      "bestTest = 0.7182115037\n",
      "bestIteration = 295\n",
      "147:\tloss: 0.7182115\tbest: 0.7182115 (137)\ttotal: 36m 16s\tremaining: 6m 37s\n",
      "bestTest = 0.7182115037\n",
      "bestIteration = 408\n",
      "148:\tloss: 0.7182115\tbest: 0.7182115 (137)\ttotal: 36m 40s\tremaining: 6m 23s\n",
      "bestTest = 0.7175033441\n",
      "bestIteration = 249\n",
      "149:\tloss: 0.7175033\tbest: 0.7182115 (137)\ttotal: 36m 58s\tremaining: 6m 9s\n",
      "bestTest = 0.7145526792\n",
      "bestIteration = 1\n",
      "150:\tloss: 0.7145527\tbest: 0.7182115 (137)\ttotal: 37m 30s\tremaining: 5m 57s\n",
      "bestTest = 0.7154182076\n",
      "bestIteration = 1\n",
      "151:\tloss: 0.7154182\tbest: 0.7182115 (137)\ttotal: 37m 59s\tremaining: 5m 44s\n",
      "bestTest = 0.7169132111\n",
      "bestIteration = 79\n",
      "152:\tloss: 0.7169132\tbest: 0.7182115 (137)\ttotal: 38m 18s\tremaining: 5m 30s\n",
      "bestTest = 0.7177000551\n",
      "bestIteration = 36\n",
      "153:\tloss: 0.7177001\tbest: 0.7182115 (137)\ttotal: 38m 27s\tremaining: 5m 14s\n",
      "bestTest = 0.718073806\n",
      "bestIteration = 35\n",
      "154:\tloss: 0.7180738\tbest: 0.7182115 (137)\ttotal: 38m 35s\tremaining: 4m 58s\n",
      "bestTest = 0.7145723503\n",
      "bestIteration = 145\n",
      "155:\tloss: 0.7145724\tbest: 0.7182115 (137)\ttotal: 39m 54s\tremaining: 4m 51s\n",
      "bestTest = 0.7163230781\n",
      "bestIteration = 249\n",
      "156:\tloss: 0.7163231\tbest: 0.7182115 (137)\ttotal: 40m 44s\tremaining: 4m 40s\n",
      "bestTest = 0.7176213707\n",
      "bestIteration = 179\n",
      "157:\tloss: 0.7176214\tbest: 0.7182115 (137)\ttotal: 41m 11s\tremaining: 4m 25s\n",
      "bestTest = 0.7177787395\n",
      "bestIteration = 144\n",
      "158:\tloss: 0.7177787\tbest: 0.7182115 (137)\ttotal: 41m 27s\tremaining: 4m 10s\n",
      "bestTest = 0.718073806\n",
      "bestIteration = 35\n",
      "159:\tloss: 0.7180738\tbest: 0.7182115 (137)\ttotal: 41m 41s\tremaining: 3m 54s\n",
      "bestTest = 0.7145920214\n",
      "bestIteration = 281\n",
      "160:\tloss: 0.7145920\tbest: 0.7182115 (137)\ttotal: 44m 11s\tremaining: 3m 50s\n",
      "bestTest = 0.7173459753\n",
      "bestIteration = 422\n",
      "161:\tloss: 0.7173460\tbest: 0.7182115 (137)\ttotal: 45m 16s\tremaining: 3m 37s\n",
      "bestTest = 0.7180934771\n",
      "bestIteration = 460\n",
      "162:\tloss: 0.7180935\tbest: 0.7182115 (137)\ttotal: 45m 53s\tremaining: 3m 22s\n",
      "bestTest = 0.717877095\n",
      "bestIteration = 225\n",
      "163:\tloss: 0.7178771\tbest: 0.7182115 (137)\ttotal: 46m 18s\tremaining: 3m 6s\n",
      "bestTest = 0.718073806\n",
      "bestIteration = 35\n",
      "164:\tloss: 0.7180738\tbest: 0.7182115 (137)\ttotal: 46m 33s\tremaining: 2m 49s\n",
      "bestTest = 0.7145920214\n",
      "bestIteration = 281\n",
      "165:\tloss: 0.7145920\tbest: 0.7182115 (137)\ttotal: 49m 4s\tremaining: 2m 39s\n",
      "bestTest = 0.7176213707\n",
      "bestIteration = 588\n",
      "166:\tloss: 0.7176214\tbest: 0.7182115 (137)\ttotal: 50m 21s\tremaining: 2m 24s\n",
      "bestTest = 0.7183295303\n",
      "bestIteration = 713\n",
      "167:\tloss: 0.7183295\tbest: 0.7183295 (167)\ttotal: 51m 19s\tremaining: 2m 8s\n",
      "bestTest = 0.7179754505\n",
      "bestIteration = 488\n",
      "168:\tloss: 0.7179755\tbest: 0.7183295 (167)\ttotal: 51m 53s\tremaining: 1m 50s\n",
      "bestTest = 0.718073806\n",
      "bestIteration = 35\n",
      "169:\tloss: 0.7180738\tbest: 0.7183295 (167)\ttotal: 52m 8s\tremaining: 1m 32s\n",
      "bestTest = 0.7145920214\n",
      "bestIteration = 281\n",
      "170:\tloss: 0.7145920\tbest: 0.7183295 (167)\ttotal: 54m 39s\tremaining: 1m 16s\n",
      "bestTest = 0.7176213707\n",
      "bestIteration = 588\n",
      "171:\tloss: 0.7176214\tbest: 0.7183295 (167)\ttotal: 55m 56s\tremaining: 58.5s\n",
      "bestTest = 0.7184082147\n",
      "bestIteration = 787\n",
      "172:\tloss: 0.7184082\tbest: 0.7184082 (172)\ttotal: 56m 57s\tremaining: 39.5s\n",
      "bestTest = 0.7178377528\n",
      "bestIteration = 283\n",
      "173:\tloss: 0.7178378\tbest: 0.7184082 (172)\ttotal: 57m 22s\tremaining: 19.8s\n",
      "bestTest = 0.718073806\n",
      "bestIteration = 35\n",
      "174:\tloss: 0.7180738\tbest: 0.7184082 (172)\ttotal: 57m 38s\tremaining: 0us\n",
      "Estimating final quality...\n",
      "Training on fold [0/3]\n",
      "bestTest = 0.7171031666\n",
      "bestIteration = 327\n",
      "Training on fold [1/3]\n",
      "bestTest = 0.7139518689\n",
      "bestIteration = 393\n",
      "Training on fold [2/3]\n",
      "bestTest = 0.7171942497\n",
      "bestIteration = 325\n"
     ]
    }
   ],
   "source": [
    "cov_train_data = Pool(data=covX_train,\n",
    "                  label=covy_train,\n",
    "                  cat_features=cat_features)\n",
    "\n",
    "cov_grid_result = cov_grid_model.grid_search(param_grid=grid_params, X=cov_train_data, plot=True)"
   ]
  },
  {
   "cell_type": "code",
   "execution_count": 24,
   "metadata": {},
   "outputs": [
    {
     "data": {
      "text/plain": [
       "{'depth': 10, 'iterations': 2000, 'learning_rate': 0.03}"
      ]
     },
     "execution_count": 24,
     "metadata": {},
     "output_type": "execute_result"
    }
   ],
   "source": [
    "cov_grid_result['params']"
   ]
  },
  {
   "cell_type": "markdown",
   "metadata": {},
   "source": [
    "De acuerdo a los resultados del `grid search`, los mejores hiperparámetros para entrenar el modelo son:\n",
    "- Árboles con 10 niveles de profundidad\n",
    "- 250 iteraciones\n",
    "- Con una taza de aprendizaje de 0.2\n",
    "\n",
    "A continuación se utilizarán los hiperparámetros obtenidos para entrenar un nuevo modelo utilizando también el set de validación de los datos del dataset original."
   ]
  },
  {
   "cell_type": "code",
   "execution_count": 25,
   "metadata": {},
   "outputs": [
    {
     "data": {
      "application/vnd.jupyter.widget-view+json": {
       "model_id": "fea92498e9084c038bc280007bd15f56",
       "version_major": 2,
       "version_minor": 0
      },
      "text/plain": [
       "MetricVisualizer(layout=Layout(align_self='stretch', height='500px'))"
      ]
     },
     "metadata": {},
     "output_type": "display_data"
    },
    {
     "name": "stdout",
     "output_type": "stream",
     "text": [
      "0:\tlearn: 0.6759926\ttest: 0.6761371\tbest: 0.6761371 (0)\ttotal: 41.4ms\tremaining: 1m 22s\n",
      "100:\tlearn: 0.5168638\ttest: 0.5227993\tbest: 0.5227993 (100)\ttotal: 3.45s\tremaining: 1m 4s\n",
      "200:\tlearn: 0.5135688\ttest: 0.5219889\tbest: 0.5219824 (193)\ttotal: 6.56s\tremaining: 58.7s\n",
      "300:\tlearn: 0.5116080\ttest: 0.5220044\tbest: 0.5219422 (209)\ttotal: 9.53s\tremaining: 53.8s\n",
      "400:\tlearn: 0.5098472\ttest: 0.5221857\tbest: 0.5219422 (209)\ttotal: 12.6s\tremaining: 50.4s\n",
      "500:\tlearn: 0.5083742\ttest: 0.5224701\tbest: 0.5219422 (209)\ttotal: 15.9s\tremaining: 47.6s\n",
      "600:\tlearn: 0.5071501\ttest: 0.5229141\tbest: 0.5219422 (209)\ttotal: 19.3s\tremaining: 44.8s\n",
      "700:\tlearn: 0.5061286\ttest: 0.5232587\tbest: 0.5219422 (209)\ttotal: 22.9s\tremaining: 42.4s\n",
      "800:\tlearn: 0.5052169\ttest: 0.5236549\tbest: 0.5219422 (209)\ttotal: 26.1s\tremaining: 39.1s\n",
      "900:\tlearn: 0.5043256\ttest: 0.5239577\tbest: 0.5219422 (209)\ttotal: 29.4s\tremaining: 35.9s\n",
      "1000:\tlearn: 0.5035443\ttest: 0.5243232\tbest: 0.5219422 (209)\ttotal: 32.9s\tremaining: 32.8s\n",
      "1100:\tlearn: 0.5027980\ttest: 0.5246545\tbest: 0.5219422 (209)\ttotal: 36.2s\tremaining: 29.6s\n",
      "1200:\tlearn: 0.5020651\ttest: 0.5249245\tbest: 0.5219422 (209)\ttotal: 39.5s\tremaining: 26.3s\n",
      "1300:\tlearn: 0.5012659\ttest: 0.5252646\tbest: 0.5219422 (209)\ttotal: 43.1s\tremaining: 23.1s\n",
      "1400:\tlearn: 0.5005556\ttest: 0.5256125\tbest: 0.5219422 (209)\ttotal: 46.5s\tremaining: 19.9s\n",
      "1500:\tlearn: 0.4999338\ttest: 0.5258996\tbest: 0.5219422 (209)\ttotal: 49.8s\tremaining: 16.6s\n",
      "1600:\tlearn: 0.4993607\ttest: 0.5262022\tbest: 0.5219422 (209)\ttotal: 53.1s\tremaining: 13.2s\n",
      "1700:\tlearn: 0.4987399\ttest: 0.5264537\tbest: 0.5219422 (209)\ttotal: 56.4s\tremaining: 9.92s\n",
      "1800:\tlearn: 0.4981925\ttest: 0.5267496\tbest: 0.5219422 (209)\ttotal: 59.8s\tremaining: 6.61s\n",
      "1900:\tlearn: 0.4976434\ttest: 0.5270507\tbest: 0.5219422 (209)\ttotal: 1m 3s\tremaining: 3.29s\n",
      "1999:\tlearn: 0.4970783\ttest: 0.5273490\tbest: 0.5219422 (209)\ttotal: 1m 6s\tremaining: 0us\n",
      "\n",
      "bestTest = 0.5219422468\n",
      "bestIteration = 209\n",
      "\n",
      "Shrink model to first 210 iterations.\n"
     ]
    },
    {
     "data": {
      "text/plain": [
       "<catboost.core.CatBoostClassifier at 0x7f02784b5910>"
      ]
     },
     "execution_count": 25,
     "metadata": {},
     "output_type": "execute_result"
    }
   ],
   "source": [
    "cov_eval_data = Pool(data=covX_val,\n",
    "                 label=covy_val,\n",
    "                 cat_features=cat_features)\n",
    "\n",
    "best_cov_model = CatBoostClassifier(**cov_grid_result['params'])\n",
    "best_cov_model.fit(cov_train_data, eval_set=cov_eval_data, use_best_model=True, verbose=100, plot=True)"
   ]
  },
  {
   "cell_type": "markdown",
   "metadata": {},
   "source": [
    "### 3.4. Comparación del desempeño"
   ]
  },
  {
   "cell_type": "code",
   "execution_count": 11,
   "metadata": {
    "tags": []
   },
   "outputs": [
    {
     "name": "stdout",
     "output_type": "stream",
     "text": [
      "Precisión del modelo sobre los sets de...\n",
      "Entrenamiento: 72.06%\n",
      "Validación: 71.48%\n",
      "Prueba: 71.67%\n"
     ]
    },
    {
     "data": {
      "image/png": "[encoded data removed]",
      "text/plain": [
       "<Figure size 432x288 with 2 Axes>"
      ]
     },
     "metadata": {
      "needs_background": "light"
     },
     "output_type": "display_data"
    }
   ],
   "source": [
    "print_results(cov_model, (covX_train, covy_train), (covX_val, covy_val), (covX_test, covy_test))"
   ]
  },
  {
   "cell_type": "code",
   "execution_count": 26,
   "metadata": {},
   "outputs": [
    {
     "name": "stdout",
     "output_type": "stream",
     "text": [
      "Precisión del modelo sobre los sets de...\n",
      "Entrenamiento: 72.33%\n",
      "Validación: 71.50%\n",
      "Prueba: 71.56%\n"
     ]
    },
    {
     "data": {
      "image/png": "[encoded data removed]",
      "text/plain": [
       "<Figure size 432x288 with 2 Axes>"
      ]
     },
     "metadata": {
      "needs_background": "light"
     },
     "output_type": "display_data"
    }
   ],
   "source": [
    "print_results(best_cov_model, (covX_train, covy_train), (covX_val, covy_val), (covX_test, covy_test))"
   ]
  },
  {
   "cell_type": "markdown",
   "metadata": {},
   "source": [
    "Similarmente como en el caso de los modelos anteriores, el rendimiento entre los modelos entrenados con los datos enriquecidos es extremadamente similar, siendo en este caso el modelo entrenado con los hiperparámetros obtenidos con grid search ligeramente superior ya que presenta un buen nivel de generalización en sus valores de precisión, así como un ligero incremento en la detección de **Verdaderos Positivos**."
   ]
  },
  {
   "cell_type": "markdown",
   "metadata": {},
   "source": [
    "Debido a que ambos modelos presentan problemas en la detección de **valores negativos** es necesario realizar un análisis de más profundo a ambos sets de datos para corregir dicho problema."
   ]
  },
  {
   "cell_type": "markdown",
   "metadata": {},
   "source": [
    "## 4. Conclusiones y futuros análisis"
   ]
  },
  {
   "cell_type": "markdown",
   "metadata": {},
   "source": [
    "A pesar de que los dos modelos fueron alimentados sets de datos distintos, ambos consiguieron generalizar perfectamente su precisión através de los diferentes sets de datos. Sin embargo, ambos tienen un problema con los resultados de los Falsos Negativos. Un análisis más profundos de los datos es requerido para obtener unos resultados más satisfactorios.\n",
    "\n",
    "Finalmente, utilizando el modelo entrenado con datos enriquecidos o un modelo más confiable, en caso de obtenerse uno, sería posible, a través de simulaciones, analizar el impacto de un cada variable en la predicción de casos positivos en un grupo de pacientes."
   ]
  }
 ],
 "metadata": {
  "kernelspec": {
   "display_name": "Python 3 (ipykernel)",
   "language": "python",
   "name": "python3"
  },
  "language_info": {
   "codemirror_mode": {
    "name": "ipython",
    "version": 3
   },
   "file_extension": ".py",
   "mimetype": "text/x-python",
   "name": "python",
   "nbconvert_exporter": "python",
   "pygments_lexer": "ipython3",
   "version": "3.9.9"
  }
 },
 "nbformat": 4,
 "nbformat_minor": 4
}
